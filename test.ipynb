{
 "cells": [
  {
   "cell_type": "markdown",
   "metadata": {},
   "source": [
    "## Graph"
   ]
  },
  {
   "cell_type": "markdown",
   "metadata": {},
   "source": [
    "### MAE: random_masking"
   ]
  },
  {
   "cell_type": "code",
   "execution_count": 148,
   "metadata": {},
   "outputs": [
    {
     "data": {
      "text/plain": [
       "tensor([[[0.4242, 0.2900],\n",
       "         [0.3482, 0.5577],\n",
       "         [0.2255, 0.1098],\n",
       "         [0.8989, 0.5212],\n",
       "         [0.7968, 0.0127]],\n",
       "\n",
       "        [[0.3815, 0.1038],\n",
       "         [0.2913, 0.9885],\n",
       "         [0.6024, 0.2209],\n",
       "         [0.1044, 0.9607],\n",
       "         [0.6929, 0.2405]],\n",
       "\n",
       "        [[0.1717, 0.6199],\n",
       "         [0.4443, 0.0392],\n",
       "         [0.0725, 0.5095],\n",
       "         [0.2704, 0.8845],\n",
       "         [0.1892, 0.1595]],\n",
       "\n",
       "        [[0.6444, 0.4932],\n",
       "         [0.7901, 0.1293],\n",
       "         [0.1907, 0.7914],\n",
       "         [0.7692, 0.4905],\n",
       "         [0.1445, 0.6353]]])"
      ]
     },
     "execution_count": 148,
     "metadata": {},
     "output_type": "execute_result"
    }
   ],
   "source": [
    "x = torch.rand((4, 5, 2))\n",
    "x"
   ]
  },
  {
   "cell_type": "code",
   "execution_count": 62,
   "metadata": {},
   "outputs": [
    {
     "data": {
      "text/plain": [
       "tensor([[0.0835, 0.5561, 0.9291, 0.7978, 0.9702],\n",
       "        [0.5953, 0.2089, 0.5204, 0.3862, 0.4703],\n",
       "        [0.1807, 0.2943, 0.8598, 0.4118, 0.7235],\n",
       "        [0.1801, 0.3224, 0.7655, 0.5698, 0.9442]])"
      ]
     },
     "execution_count": 62,
     "metadata": {},
     "output_type": "execute_result"
    }
   ],
   "source": [
    "noise = torch.rand(4, 5)\n",
    "noise"
   ]
  },
  {
   "cell_type": "code",
   "execution_count": 63,
   "metadata": {},
   "outputs": [
    {
     "data": {
      "text/plain": [
       "tensor([[0, 1, 3, 2, 4],\n",
       "        [1, 3, 4, 2, 0],\n",
       "        [0, 1, 3, 4, 2],\n",
       "        [0, 1, 3, 2, 4]])"
      ]
     },
     "execution_count": 63,
     "metadata": {},
     "output_type": "execute_result"
    }
   ],
   "source": [
    "ids_shuffle = torch.argsort(noise, dim=1)  # ascend: small is keep, large is remove\n",
    "ids_shuffle"
   ]
  },
  {
   "cell_type": "code",
   "execution_count": 64,
   "metadata": {},
   "outputs": [
    {
     "data": {
      "text/plain": [
       "tensor([[0, 1, 3, 2, 4],\n",
       "        [4, 0, 3, 1, 2],\n",
       "        [0, 1, 4, 2, 3],\n",
       "        [0, 1, 3, 2, 4]])"
      ]
     },
     "execution_count": 64,
     "metadata": {},
     "output_type": "execute_result"
    }
   ],
   "source": [
    "ids_restore = torch.argsort(ids_shuffle, dim=1)\n",
    "ids_restore"
   ]
  },
  {
   "cell_type": "code",
   "execution_count": 65,
   "metadata": {},
   "outputs": [
    {
     "data": {
      "text/plain": [
       "tensor([[0, 1, 3],\n",
       "        [1, 3, 4],\n",
       "        [0, 1, 3],\n",
       "        [0, 1, 3]])"
      ]
     },
     "execution_count": 65,
     "metadata": {},
     "output_type": "execute_result"
    }
   ],
   "source": [
    "ids_keep = ids_shuffle[:, :3]\n",
    "ids_keep"
   ]
  },
  {
   "cell_type": "code",
   "execution_count": 66,
   "metadata": {},
   "outputs": [
    {
     "data": {
      "text/plain": [
       "tensor([[[0.0841, 0.7777],\n",
       "         [0.2600, 0.6878],\n",
       "         [0.5623, 0.3064]],\n",
       "\n",
       "        [[0.5746, 0.9682],\n",
       "         [0.3447, 0.8661],\n",
       "         [0.1676, 0.4896]],\n",
       "\n",
       "        [[0.4387, 0.9735],\n",
       "         [0.8970, 0.7504],\n",
       "         [0.7708, 0.4949]],\n",
       "\n",
       "        [[0.0260, 0.9256],\n",
       "         [0.9354, 0.9779],\n",
       "         [0.6392, 0.9462]]])"
      ]
     },
     "execution_count": 66,
     "metadata": {},
     "output_type": "execute_result"
    }
   ],
   "source": [
    "x_masked = torch.gather(x, dim=1, index=ids_keep.unsqueeze(-1).repeat(1, 1, 2))\n",
    "x_masked"
   ]
  },
  {
   "cell_type": "code",
   "execution_count": 67,
   "metadata": {},
   "outputs": [
    {
     "data": {
      "text/plain": [
       "tensor([[0., 0., 1., 0., 1.],\n",
       "        [1., 0., 1., 0., 0.],\n",
       "        [0., 0., 1., 0., 1.],\n",
       "        [0., 0., 1., 0., 1.]])"
      ]
     },
     "execution_count": 67,
     "metadata": {},
     "output_type": "execute_result"
    }
   ],
   "source": [
    "mask = torch.ones([4, 5], device=x.device)\n",
    "mask[:, :3] = 0\n",
    "# unshuffle to get the binary mask\n",
    "mask = torch.gather(mask, dim=1, index=ids_restore)\n",
    "mask"
   ]
  },
  {
   "cell_type": "markdown",
   "metadata": {},
   "source": [
    "### Debug:"
   ]
  },
  {
   "cell_type": "code",
   "execution_count": 1,
   "metadata": {},
   "outputs": [
    {
     "name": "stdout",
     "output_type": "stream",
     "text": [
      "<function moco_graph_encoder at 0x7f81808a4790>\n"
     ]
    }
   ],
   "source": [
    "import moco as moco\n",
    "\n",
    "print(moco.__dict__['moco_graph_encoder'])"
   ]
  },
  {
   "cell_type": "code",
   "execution_count": 13,
   "metadata": {},
   "outputs": [
    {
     "name": "stdout",
     "output_type": "stream",
     "text": [
      "tensor([[0.0808, 0.9130],\n",
      "        [0.8778, 0.8021],\n",
      "        [0.0944, 0.6027],\n",
      "        [0.2141, 0.1238]])\n",
      "tensor([[0.8555, 0.2620],\n",
      "        [0.9656, 0.1462],\n",
      "        [0.1758, 0.5150],\n",
      "        [0.4018, 0.3649]])\n"
     ]
    }
   ],
   "source": [
    "h_pl = torch.rand((4, 2))\n",
    "c = torch.rand((4, 2))\n",
    "print(h_pl)\n",
    "print(c)"
   ]
  },
  {
   "cell_type": "code",
   "execution_count": 14,
   "metadata": {},
   "outputs": [
    {
     "data": {
      "text/plain": [
       "[tensor([[ 0.3055],\n",
       "         [ 0.4926],\n",
       "         [-0.1603],\n",
       "         [-0.1570]], grad_fn=<AddBackward0>)]"
      ]
     },
     "execution_count": 14,
     "metadata": {},
     "output_type": "execute_result"
    }
   ],
   "source": [
    "import torch.nn as nn\n",
    "\n",
    "n_h = 2\n",
    "f_k = nn.Bilinear(n_h, n_h, 1)\n",
    "\n",
    "scs = []\n",
    "scs.append(f_k(h_pl, c))\n",
    "scs"
   ]
  },
  {
   "cell_type": "code",
   "execution_count": 15,
   "metadata": {},
   "outputs": [
    {
     "name": "stdout",
     "output_type": "stream",
     "text": [
      "tensor([[0.1758, 0.5150],\n",
      "        [0.8555, 0.2620],\n",
      "        [0.9656, 0.1462],\n",
      "        [0.1758, 0.5150]])\n"
     ]
    }
   ],
   "source": [
    "c_mi = c\n",
    "negsamp_round = 1\n",
    "for _ in range(negsamp_round):\n",
    "    c_mi = torch.cat((c_mi[-2:-1,:], c_mi[:-1,:]),0)\n",
    "    print(c_mi)\n",
    "    scs.append(f_k(h_pl, c_mi))"
   ]
  },
  {
   "cell_type": "code",
   "execution_count": 17,
   "metadata": {},
   "outputs": [
    {
     "name": "stdout",
     "output_type": "stream",
     "text": [
      "[tensor([[ 0.3055],\n",
      "        [ 0.4926],\n",
      "        [-0.1603],\n",
      "        [-0.1570]], grad_fn=<AddBackward0>), tensor([[-0.1441],\n",
      "        [ 0.3266],\n",
      "        [ 0.2137],\n",
      "        [-0.2137]], grad_fn=<AddBackward0>)]\n"
     ]
    }
   ],
   "source": [
    "print(scs)"
   ]
  },
  {
   "cell_type": "code",
   "execution_count": 16,
   "metadata": {},
   "outputs": [
    {
     "data": {
      "text/plain": [
       "tensor([[ 0.3055],\n",
       "        [ 0.4926],\n",
       "        [-0.1603],\n",
       "        [-0.1570],\n",
       "        [-0.1441],\n",
       "        [ 0.3266],\n",
       "        [ 0.2137],\n",
       "        [-0.2137]], grad_fn=<CatBackward0>)"
      ]
     },
     "execution_count": 16,
     "metadata": {},
     "output_type": "execute_result"
    }
   ],
   "source": [
    "logits = torch.cat(tuple(scs))\n",
    "logits"
   ]
  },
  {
   "cell_type": "code",
   "execution_count": 18,
   "metadata": {},
   "outputs": [
    {
     "data": {
      "text/plain": [
       "tensor([[[0.2789, 0.2368],\n",
       "         [0.8589, 0.8995],\n",
       "         [0.1355, 0.6173],\n",
       "         [0.6932, 0.8482],\n",
       "         [0.6499, 0.5748]],\n",
       "\n",
       "        [[0.4149, 0.4989],\n",
       "         [0.7000, 0.2095],\n",
       "         [0.5814, 0.5955],\n",
       "         [0.2664, 0.6382],\n",
       "         [0.3337, 0.7935]],\n",
       "\n",
       "        [[0.2979, 0.6018],\n",
       "         [0.3499, 0.3546],\n",
       "         [0.2195, 0.0341],\n",
       "         [0.2673, 0.9819],\n",
       "         [0.3262, 0.5714]],\n",
       "\n",
       "        [[0.9486, 0.0165],\n",
       "         [0.0677, 0.1777],\n",
       "         [0.0727, 0.1079],\n",
       "         [0.3486, 0.1212],\n",
       "         [0.0447, 0.4711]]])"
      ]
     },
     "execution_count": 18,
     "metadata": {},
     "output_type": "execute_result"
    }
   ],
   "source": [
    "x = torch.rand((4, 5, 2))\n",
    "x"
   ]
  },
  {
   "cell_type": "code",
   "execution_count": 19,
   "metadata": {},
   "outputs": [
    {
     "data": {
      "text/plain": [
       "tensor([[0.2789, 0.2368],\n",
       "        [0.4149, 0.4989],\n",
       "        [0.2979, 0.6018],\n",
       "        [0.9486, 0.0165]])"
      ]
     },
     "execution_count": 19,
     "metadata": {},
     "output_type": "execute_result"
    }
   ],
   "source": [
    "x[:, 0, :]"
   ]
  },
  {
   "cell_type": "code",
   "execution_count": 57,
   "metadata": {},
   "outputs": [
    {
     "name": "stdout",
     "output_type": "stream",
     "text": [
      "torch.Size([1, 1433])\n"
     ]
    }
   ],
   "source": [
    "from dgl.nn.pytorch.glob import AvgPooling\n",
    "\n",
    "avg = AvgPooling()\n",
    "\n",
    "out = avg(temp, temp.ndata[\"features\"])\n",
    "print(out.shape)"
   ]
  },
  {
   "cell_type": "code",
   "execution_count": 58,
   "metadata": {},
   "outputs": [],
   "source": [
    "out = out.to(torch.float32)"
   ]
  },
  {
   "cell_type": "code",
   "execution_count": 59,
   "metadata": {},
   "outputs": [
    {
     "name": "stdout",
     "output_type": "stream",
     "text": [
      "torch.Size([1, 32])\n"
     ]
    }
   ],
   "source": [
    "drop = nn.Dropout(0.2)\n",
    "linear = nn.Linear(1433, 32)\n",
    "out = drop(linear(out))\n",
    "print(out.shape)"
   ]
  },
  {
   "cell_type": "code",
   "execution_count": 60,
   "metadata": {},
   "outputs": [],
   "source": [
    "score_over_layer = 0\n",
    "score_over_layer += out"
   ]
  },
  {
   "cell_type": "code",
   "execution_count": 62,
   "metadata": {},
   "outputs": [
    {
     "data": {
      "text/plain": [
       "torch.Size([1, 32])"
      ]
     },
     "execution_count": 62,
     "metadata": {},
     "output_type": "execute_result"
    }
   ],
   "source": [
    "score_over_layer.shape"
   ]
  },
  {
   "cell_type": "code",
   "execution_count": 91,
   "metadata": {},
   "outputs": [
    {
     "name": "stdout",
     "output_type": "stream",
     "text": [
      "tensor([[-0.4061, -0.9381],\n",
      "        [-0.6663,  0.9505],\n",
      "        [ 0.6383,  1.0689],\n",
      "        [ 1.8522, -0.2765]])\n"
     ]
    }
   ],
   "source": [
    "import torch\n",
    "\n",
    "# Sinkhorn-Knopp\n",
    "def sinkhorn(scores, eps=0.05, niters=3):\n",
    "    Q = torch.exp(scores / eps).T\n",
    "    Q /= sum(Q)\n",
    "    K, B = Q.shape\n",
    "    u, r, c = torch.zeros(K), torch.ones(K) / K, torch.ones(B) / B\n",
    "    for _ in range(niters):\n",
    "        u = torch.sum(Q, dim=1)\n",
    "        Q *= (r / u).unsqueeze(1)\n",
    "        Q *= (c / torch.sum(Q, dim=0)).unsqueeze(0)\n",
    "    return (Q / torch.sum(Q, dim=0, keepdim=True)).T\n",
    "\n",
    "z = torch.randn((4, 2))\n",
    "print(z)"
   ]
  },
  {
   "cell_type": "code",
   "execution_count": 93,
   "metadata": {},
   "outputs": [
    {
     "data": {
      "text/plain": [
       "tensor([[9.9998e-01, 2.3970e-05],\n",
       "        [9.0603e-15, 1.0000e+00],\n",
       "        [1.8182e-04, 9.9982e-01],\n",
       "        [1.0000e+00, 3.2391e-19]])"
      ]
     },
     "execution_count": 93,
     "metadata": {},
     "output_type": "execute_result"
    }
   ],
   "source": [
    "x = sinkhorn(z)\n",
    "x"
   ]
  },
  {
   "cell_type": "code",
   "execution_count": 150,
   "metadata": {},
   "outputs": [
    {
     "name": "stdout",
     "output_type": "stream",
     "text": [
      "tensor([[0.8667, 0.7765, 0.2961, 0.1600]])\n",
      "tensor([[0.3365, 0.3074, 0.1902, 0.1660]])\n"
     ]
    }
   ],
   "source": [
    "a = torch.rand((1, 4))\n",
    "print(a)\n",
    "b = F.softmax(a, dim=1)\n",
    "print(b)"
   ]
  },
  {
   "cell_type": "code",
   "execution_count": 151,
   "metadata": {},
   "outputs": [
    {
     "name": "stdout",
     "output_type": "stream",
     "text": [
      "tensor([[2.9739, 2.7173, 1.6808, 1.4670]])\n"
     ]
    }
   ],
   "source": [
    "T = 0.8\n",
    "numerator = np.exp(a) / T\n",
    "print(numerator)"
   ]
  },
  {
   "cell_type": "code",
   "execution_count": null,
   "metadata": {},
   "outputs": [],
   "source": []
  },
  {
   "cell_type": "markdown",
   "metadata": {},
   "source": [
    "### Mahalanobis"
   ]
  },
  {
   "cell_type": "code",
   "execution_count": 268,
   "metadata": {},
   "outputs": [
    {
     "name": "stdout",
     "output_type": "stream",
     "text": [
      "num of layers:  5\n",
      "size of each layer:  torch.Size([32, 64, 32, 32])\n",
      "size of each layer:  torch.Size([32, 64, 32, 32])\n",
      "size of each layer:  torch.Size([32, 128, 16, 16])\n",
      "size of each layer:  torch.Size([32, 256, 8, 8])\n",
      "size of each layer:  torch.Size([32, 512, 4, 4])\n",
      "feature_list: [ 64.  64. 128. 256. 512.]\n"
     ]
    }
   ],
   "source": [
    "# load networks\n",
    "from resnet import ResNet34\n",
    "model = ResNet34(num_c=10)\n",
    "\n",
    "# set information about feature extaction\n",
    "model.eval()\n",
    "temp_x = torch.rand(32, 3, 32, 32)\n",
    "temp_x = temp_x.detach()\n",
    "temp_list = model.feature_list(temp_x)[1] # (B, C, H, W)\n",
    "num_output = len(temp_list)\n",
    "print(\"num of layers: \", num_output)\n",
    "for i in range(len(temp_list)):\n",
    "    print(\"size of each layer: \", temp_list[i].shape)\n",
    "\n",
    "feature_list = np.empty(num_output) # [0] * num_layers\n",
    "count = 0\n",
    "for out in temp_list:\n",
    "    feature_list[count] = out.size(1) # C\n",
    "    count += 1\n",
    "print(\"feature_list:\", feature_list)"
   ]
  },
  {
   "cell_type": "code",
   "execution_count": 269,
   "metadata": {},
   "outputs": [
    {
     "name": "stdout",
     "output_type": "stream",
     "text": [
      "torch.Size([32, 64])\n",
      "torch.Size([32, 64])\n",
      "torch.Size([32, 128])\n",
      "torch.Size([32, 256])\n",
      "torch.Size([32, 512])\n"
     ]
    }
   ],
   "source": [
    "out_features = temp_list\n",
    "for i in range(num_output):\n",
    "    out_features[i] = out_features[i].view(out_features[i].size(0), out_features[i].size(1), -1) # (B, C, H*W)\n",
    "    out_features[i] = torch.mean(out_features[i].data, 2) # (B, C)\n",
    "    print(out_features[i].data.shape)"
   ]
  },
  {
   "cell_type": "code",
   "execution_count": 271,
   "metadata": {},
   "outputs": [],
   "source": [
    "num_classes = 10\n",
    "num_sample_per_class = np.empty(num_classes) # [0] * 10\n",
    "num_sample_per_class.fill(0)\n",
    "list_features = []\n",
    "for i in range(num_output):\n",
    "    temp_list = [] # [0] * 10\n",
    "    for j in range(num_classes):\n",
    "        temp_list.append(0)\n",
    "    list_features.append(temp_list) # [[0] * 10] * num_layers\n",
    "\n",
    "target = torch.randint(0, 10, (32, ))\n",
    "data = temp_x\n",
    "\n",
    "# construct the sample matrix\n",
    "for i in range(data.size(0)): # [0, B-1]\n",
    "    label = target[i]\n",
    "    if num_sample_per_class[label] == 0:\n",
    "        out_count = 0\n",
    "        for out in out_features: # out: (B, num_feature)\n",
    "            list_features[out_count][label] = out[i].view(1, -1) # (1, num_feature)\n",
    "            out_count += 1\n",
    "    else:\n",
    "        out_count = 0\n",
    "        for out in out_features:\n",
    "            list_features[out_count][label] \\\n",
    "            = torch.cat((list_features[out_count][label], out[i].view(1, -1)), 0)\n",
    "            out_count += 1                \n",
    "    num_sample_per_class[label] += 1"
   ]
  },
  {
   "cell_type": "code",
   "execution_count": 275,
   "metadata": {},
   "outputs": [
    {
     "name": "stdout",
     "output_type": "stream",
     "text": [
      "5\n",
      "10\n",
      "32\n",
      "64\n"
     ]
    }
   ],
   "source": [
    "# (num_layers, num_class, N_c, C)\n",
    "print(len(list_features))\n",
    "print(len(list_features[0]))\n",
    "tmp = 0\n",
    "for i in range(num_classes):\n",
    "    tmp += len(list_features[0][i])\n",
    "print(tmp)\n",
    "print(len(list_features[0][0][0]))"
   ]
  },
  {
   "cell_type": "code",
   "execution_count": 286,
   "metadata": {},
   "outputs": [
    {
     "name": "stdout",
     "output_type": "stream",
     "text": [
      "5\n",
      "torch.Size([10, 64])\n"
     ]
    }
   ],
   "source": [
    "sample_class_mean = [] # [(num_classes, C)] * num_layers\n",
    "out_count = 0\n",
    "for num_feature in feature_list: # num_layers\n",
    "    temp_list = torch.Tensor(num_classes, int(num_feature)) # (num_classes, C)\n",
    "    for j in range(num_classes):\n",
    "        temp_list[j] = torch.mean(list_features[out_count][j], 0) # (N_c, C) -> (1, C)\n",
    "    sample_class_mean.append(temp_list)\n",
    "    out_count += 1\n",
    "print(len(sample_class_mean))\n",
    "print(sample_class_mean[0].shape)"
   ]
  },
  {
   "cell_type": "code",
   "execution_count": 293,
   "metadata": {},
   "outputs": [
    {
     "name": "stdout",
     "output_type": "stream",
     "text": [
      "5\n",
      "torch.Size([64, 64])\n"
     ]
    }
   ],
   "source": [
    "import sklearn.covariance\n",
    "\n",
    "group_lasso = sklearn.covariance.EmpiricalCovariance(assume_centered=False)\n",
    "\n",
    "precision = []\n",
    "for k in range(num_output):\n",
    "    X = 0\n",
    "    for i in range(num_classes):\n",
    "        if i == 0:\n",
    "            X = list_features[k][i] - sample_class_mean[k][i] # (N_c, C)\n",
    "        else:\n",
    "            X = torch.cat((X, list_features[k][i] - sample_class_mean[k][i]), 0) # (N, C)\n",
    "    # find inverse            \n",
    "    group_lasso.fit(X.numpy())\n",
    "    temp_precision = group_lasso.precision_\n",
    "    temp_precision = torch.from_numpy(temp_precision).float() # (C, N)\n",
    "    precision.append(temp_precision) # [(C, N)] * num_layers\n",
    "print(len(precision))\n",
    "print(precision[0].shape) # [(C, C)] * num_layers"
   ]
  },
  {
   "cell_type": "code",
   "execution_count": 345,
   "metadata": {},
   "outputs": [
    {
     "name": "stdout",
     "output_type": "stream",
     "text": [
      "tensor([[ 0.4317,  0.1070],\n",
      "        [-0.3850, -0.6187],\n",
      "        [ 0.4838,  0.0031]])\n",
      "tensor([[-2.2033,  2.2806],\n",
      "        [ 0.0719,  1.6152]])\n"
     ]
    }
   ],
   "source": [
    "x = torch.randn((3, 2)) # (B, C)\n",
    "sigma = torch.randn((2, 2)) # (C, C)\n",
    "print(x)\n",
    "print(sigma)"
   ]
  },
  {
   "cell_type": "code",
   "execution_count": 353,
   "metadata": {},
   "outputs": [
    {
     "name": "stdout",
     "output_type": "stream",
     "text": [
      "torch.Size([3, 1])\n"
     ]
    }
   ],
   "source": [
    "y = torch.mm(torch.mm(x, sigma), x.t()).diag()\n",
    "y = y.view(-1, 1)\n",
    "print(y.shape)"
   ]
  },
  {
   "cell_type": "code",
   "execution_count": 358,
   "metadata": {},
   "outputs": [
    {
     "name": "stdout",
     "output_type": "stream",
     "text": [
      "tensor([[-0.2834,  0.0621],\n",
      "        [ 0.8519, -0.5122],\n",
      "        [-0.5122,  0.8572]])\n",
      "torch.Size([3, 2])\n"
     ]
    }
   ],
   "source": [
    "t = torch.randn((3, 1))\n",
    "t = torch.cat((y, t), 1)\n",
    "print(t)\n",
    "print(t.shape)"
   ]
  },
  {
   "cell_type": "code",
   "execution_count": 361,
   "metadata": {},
   "outputs": [
    {
     "data": {
      "text/plain": [
       "torch.return_types.max(\n",
       "values=tensor([0.0621, 0.8519, 0.8572]),\n",
       "indices=tensor([1, 0, 1]))"
      ]
     },
     "execution_count": 361,
     "metadata": {},
     "output_type": "execute_result"
    }
   ],
   "source": [
    "t.max(1)"
   ]
  },
  {
   "cell_type": "code",
   "execution_count": 374,
   "metadata": {},
   "outputs": [
    {
     "name": "stdout",
     "output_type": "stream",
     "text": [
      "torch.Size([4])\n"
     ]
    },
    {
     "data": {
      "text/plain": [
       "tensor([ 0.1002, -1.0799,  0.3467,  0.8103])"
      ]
     },
     "execution_count": 374,
     "metadata": {},
     "output_type": "execute_result"
    }
   ],
   "source": [
    "x = torch.randn((4, 2))\n",
    "y = torch.randn((4, 2))\n",
    "z = torch.sum(x * y, dim=1)\n",
    "print(z.shape)\n",
    "z"
   ]
  },
  {
   "cell_type": "code",
   "execution_count": 376,
   "metadata": {},
   "outputs": [
    {
     "name": "stdout",
     "output_type": "stream",
     "text": [
      "tensor(0.1002)\n",
      "tensor(-1.0799)\n",
      "tensor(0.3467)\n",
      "tensor(0.8103)\n"
     ]
    }
   ],
   "source": [
    "for i in range(4):\n",
    "    print(sum(x[i]*y[i]))    "
   ]
  },
  {
   "cell_type": "code",
   "execution_count": 12,
   "metadata": {},
   "outputs": [
    {
     "name": "stdout",
     "output_type": "stream",
     "text": [
      "基于欧氏距离的 K-means 聚类结果： [0 0 1 0 0 0 1 1 0 1 1 1 0 0 1 1 0 0 1 1 0 0 0 0 1 0 0 0 1 1 1 1 0 0 0 1 0\n",
      " 0 1 1 0 1 1 0 1 0 0 0 1 1 0 0 1 0 1 1 0 0 1 0 0 1 1 0 0 1 1 1 0 0 1 1 1 0\n",
      " 1 1 0 1 0 0 0 0 0 1 0 1 1 1 1 1 1 0 0 0 1 0 0 1 0 0]\n",
      "基于马氏距离的 K-means 聚类结果： [0 0 1 0 0 0 1 1 1 1 1 1 0 1 1 1 0 0 1 1 1 0 0 1 1 0 0 0 1 1 1 1 1 0 0 1 0\n",
      " 0 1 1 0 1 1 0 0 0 0 0 1 1 0 1 1 0 1 1 0 0 1 0 0 1 1 0 1 1 1 1 0 0 1 1 1 0\n",
      " 1 1 1 1 0 0 0 0 0 1 1 1 1 1 1 1 1 0 0 0 1 0 0 1 0 0]\n",
      "基于马氏距离的 K-means 聚类的轮廓系数： 0.3397246387107845\n",
      "基于马氏距离的 K-means 聚类的轮廓系数： 0.3736980583593435\n"
     ]
    }
   ],
   "source": [
    "from sklearn.cluster import KMeans\n",
    "import numpy as np\n",
    "from sklearn.metrics import silhouette_score\n",
    "\n",
    "# 生成一些示例数据\n",
    "np.random.seed(42)\n",
    "X = np.random.rand(100, 2)\n",
    "\n",
    "# 计算协方差矩阵的逆\n",
    "cov_matrix_inv = np.linalg.inv(np.cov(X, rowvar=False))\n",
    "\n",
    "# 中心化数据集\n",
    "mean = np.mean(X, axis=0)\n",
    "X_centered = X - mean\n",
    "\n",
    "# 变换数据集\n",
    "X_transformed = np.dot(X_centered, cov_matrix_inv)\n",
    "\n",
    "# 使用 scikit-learn 的 KMeans 基于欧氏距离\n",
    "kmeans_euclidean = KMeans(n_clusters=2, init='k-means++', n_init='auto', algorithm='lloyd', random_state=42)\n",
    "kmeans_euclidean.fit(X)\n",
    "\n",
    "# 使用 scikit-learn 的 KMeans 基于马氏距离\n",
    "kmeans_mahalanobis = KMeans(n_clusters=2, init='k-means++', n_init='auto', algorithm='lloyd', random_state=42)\n",
    "kmeans_mahalanobis.fit(X_transformed)\n",
    "\n",
    "# 获取聚类结果\n",
    "labels_euclidean = kmeans_euclidean.labels_\n",
    "labels_mahalanobis = kmeans_mahalanobis.labels_\n",
    "\n",
    "# 打印聚类结果\n",
    "print(\"基于欧氏距离的 K-means 聚类结果：\", labels_euclidean)\n",
    "print(\"基于马氏距离的 K-means 聚类结果：\", labels_mahalanobis)\n",
    "\n",
    "# 计算基于马氏距离的 K-means 聚类的轮廓系数\n",
    "silhouette_score_ou = silhouette_score(X, labels_mahalanobis)\n",
    "silhouette_score_mahalanobis = silhouette_score(X_transformed, labels_mahalanobis)\n",
    "\n",
    "# 打印基于马氏距离的 K-means 聚类的轮廓系数\n",
    "print(\"基于马氏距离的 K-means 聚类的轮廓系数：\", silhouette_score_ou)\n",
    "print(\"基于马氏距离的 K-means 聚类的轮廓系数：\", silhouette_score_mahalanobis)\n"
   ]
  },
  {
   "cell_type": "markdown",
   "metadata": {},
   "source": [
    "### 调试"
   ]
  },
  {
   "cell_type": "code",
   "execution_count": 6,
   "metadata": {},
   "outputs": [],
   "source": [
    "import math\n",
    "import dgl\n",
    "import time\n",
    "import torch\n",
    "import numpy as np\n",
    "import random\n",
    "import warnings\n",
    "# from functools import partial\n",
    "from utils import *\n",
    "import clustering\n",
    "from dataset import GraphDataset\n",
    "from model import dmc\n",
    "from sklearn.metrics import roc_auc_score"
   ]
  },
  {
   "cell_type": "code",
   "execution_count": 4,
   "metadata": {},
   "outputs": [
    {
     "name": "stdout",
     "output_type": "stream",
     "text": [
      "feature_dim:  torch.Size([2708, 1433])\n"
     ]
    }
   ],
   "source": [
    "import torch\n",
    "import numpy as np\n",
    "from utils import *\n",
    "from dataset import GraphDataset\n",
    "\n",
    "device = torch.device('cuda:0' if torch.cuda.is_available() else 'cpu')\n",
    "adj, features, labels = load(\"cora\")\n",
    "# adj = adj.todense()\n",
    "features = preprocess_features(features)\n",
    "features = torch.FloatTensor(features)\n",
    "print(\"feature_dim: \", features.shape)\n",
    "# adj = torch.FloatTensor(adj)\n",
    "labels = torch.FloatTensor(labels)\n",
    "\n",
    "train_dataset = GraphDataset(adj=adj, features=features, aug=None)\n",
    "train_loader = torch.utils.data.DataLoader(\n",
    "        dataset=train_dataset,\n",
    "        batch_size=256,\n",
    "        collate_fn=labeled_batcher(),\n",
    "        shuffle=True,\n",
    "        pin_memory=True,\n",
    "        sampler=None,\n",
    "        drop_last=True\n",
    "    )"
   ]
  },
  {
   "cell_type": "code",
   "execution_count": 5,
   "metadata": {},
   "outputs": [
    {
     "name": "stdout",
     "output_type": "stream",
     "text": [
      "13\n",
      "torch.Size([13, 1433])\n",
      "13\n",
      "13\n",
      "torch.Size([13, 1433])\n",
      "13\n",
      "8\n",
      "torch.Size([8, 1433])\n",
      "8\n",
      "11\n",
      "torch.Size([11, 1433])\n",
      "11\n",
      "14\n",
      "torch.Size([14, 1433])\n",
      "14\n",
      "10\n",
      "torch.Size([10, 1433])\n",
      "10\n",
      "15\n",
      "torch.Size([15, 1433])\n",
      "15\n",
      "21\n",
      "torch.Size([21, 1433])\n",
      "21\n",
      "9\n",
      "torch.Size([9, 1433])\n",
      "9\n",
      "10\n",
      "torch.Size([10, 1433])\n",
      "10\n",
      "11\n",
      "torch.Size([11, 1433])\n",
      "11\n",
      "13\n",
      "torch.Size([13, 1433])\n",
      "13\n",
      "5\n",
      "torch.Size([5, 1433])\n",
      "5\n",
      "21\n",
      "torch.Size([21, 1433])\n",
      "21\n",
      "3\n",
      "torch.Size([3, 1433])\n",
      "3\n",
      "9\n",
      "torch.Size([9, 1433])\n",
      "9\n",
      "13\n",
      "torch.Size([13, 1433])\n",
      "13\n",
      "19\n",
      "torch.Size([19, 1433])\n",
      "19\n",
      "12\n",
      "torch.Size([12, 1433])\n",
      "12\n",
      "7\n",
      "torch.Size([7, 1433])\n",
      "7\n",
      "4\n",
      "torch.Size([4, 1433])\n",
      "4\n",
      "16\n",
      "torch.Size([16, 1433])\n",
      "16\n",
      "10\n",
      "torch.Size([10, 1433])\n",
      "10\n",
      "7\n",
      "torch.Size([7, 1433])\n",
      "7\n",
      "4\n",
      "torch.Size([4, 1433])\n",
      "4\n",
      "3\n",
      "torch.Size([3, 1433])\n",
      "3\n",
      "9\n",
      "torch.Size([9, 1433])\n",
      "9\n",
      "5\n",
      "torch.Size([5, 1433])\n",
      "5\n",
      "9\n",
      "torch.Size([9, 1433])\n",
      "9\n",
      "7\n",
      "torch.Size([7, 1433])\n",
      "7\n",
      "13\n",
      "torch.Size([13, 1433])\n",
      "13\n",
      "10\n",
      "torch.Size([10, 1433])\n",
      "10\n",
      "10\n",
      "torch.Size([10, 1433])\n",
      "10\n",
      "10\n",
      "torch.Size([10, 1433])\n",
      "10\n",
      "21\n",
      "torch.Size([21, 1433])\n",
      "21\n",
      "8\n",
      "torch.Size([8, 1433])\n",
      "8\n",
      "5\n",
      "torch.Size([5, 1433])\n",
      "5\n",
      "5\n",
      "torch.Size([5, 1433])\n",
      "5\n",
      "21\n",
      "torch.Size([21, 1433])\n",
      "21\n",
      "11\n",
      "torch.Size([11, 1433])\n",
      "11\n",
      "8\n",
      "torch.Size([8, 1433])\n",
      "8\n",
      "10\n",
      "torch.Size([10, 1433])\n",
      "10\n",
      "2\n",
      "torch.Size([2, 1433])\n",
      "2\n",
      "3\n",
      "torch.Size([3, 1433])\n",
      "3\n",
      "13\n",
      "torch.Size([13, 1433])\n",
      "13\n",
      "9\n",
      "torch.Size([9, 1433])\n",
      "9\n",
      "7\n",
      "torch.Size([7, 1433])\n",
      "7\n",
      "2\n",
      "torch.Size([2, 1433])\n",
      "2\n",
      "12\n",
      "torch.Size([12, 1433])\n",
      "12\n",
      "14\n",
      "torch.Size([14, 1433])\n",
      "14\n",
      "5\n",
      "torch.Size([5, 1433])\n",
      "5\n",
      "2\n",
      "torch.Size([2, 1433])\n",
      "2\n",
      "12\n",
      "torch.Size([12, 1433])\n",
      "12\n",
      "7\n",
      "torch.Size([7, 1433])\n",
      "7\n",
      "8\n",
      "torch.Size([8, 1433])\n",
      "8\n",
      "13\n",
      "torch.Size([13, 1433])\n",
      "13\n",
      "11\n",
      "torch.Size([11, 1433])\n",
      "11\n",
      "3\n",
      "torch.Size([3, 1433])\n",
      "3\n",
      "10\n",
      "torch.Size([10, 1433])\n",
      "10\n",
      "9\n",
      "torch.Size([9, 1433])\n",
      "9\n",
      "12\n",
      "torch.Size([12, 1433])\n",
      "12\n",
      "15\n",
      "torch.Size([15, 1433])\n",
      "15\n",
      "13\n",
      "torch.Size([13, 1433])\n",
      "13\n",
      "12\n",
      "torch.Size([12, 1433])\n",
      "12\n",
      "10\n",
      "torch.Size([10, 1433])\n",
      "10\n",
      "6\n",
      "torch.Size([6, 1433])\n",
      "6\n",
      "13\n",
      "torch.Size([13, 1433])\n",
      "13\n",
      "8\n",
      "torch.Size([8, 1433])\n",
      "8\n",
      "14\n",
      "torch.Size([14, 1433])\n",
      "14\n",
      "10\n",
      "torch.Size([10, 1433])\n",
      "10\n",
      "14\n",
      "torch.Size([14, 1433])\n",
      "14\n",
      "9\n",
      "torch.Size([9, 1433])\n",
      "9\n",
      "13\n",
      "torch.Size([13, 1433])\n",
      "13\n",
      "7\n",
      "torch.Size([7, 1433])\n",
      "7\n",
      "16\n",
      "torch.Size([16, 1433])\n",
      "16\n",
      "9\n",
      "torch.Size([9, 1433])\n",
      "9\n",
      "12\n",
      "torch.Size([12, 1433])\n",
      "12\n",
      "10\n",
      "torch.Size([10, 1433])\n",
      "10\n",
      "13\n",
      "torch.Size([13, 1433])\n",
      "13\n",
      "2\n",
      "torch.Size([2, 1433])\n",
      "2\n",
      "11\n",
      "torch.Size([11, 1433])\n",
      "11\n",
      "6\n",
      "torch.Size([6, 1433])\n",
      "6\n",
      "10\n",
      "torch.Size([10, 1433])\n",
      "10\n",
      "9\n",
      "torch.Size([9, 1433])\n",
      "9\n",
      "8\n",
      "torch.Size([8, 1433])\n",
      "8\n",
      "9\n",
      "torch.Size([9, 1433])\n",
      "9\n",
      "5\n",
      "torch.Size([5, 1433])\n",
      "5\n",
      "4\n",
      "torch.Size([4, 1433])\n",
      "4\n",
      "13\n",
      "torch.Size([13, 1433])\n",
      "13\n",
      "11\n",
      "torch.Size([11, 1433])\n",
      "11\n",
      "5\n",
      "torch.Size([5, 1433])\n",
      "5\n",
      "10\n",
      "torch.Size([10, 1433])\n",
      "10\n",
      "7\n",
      "torch.Size([7, 1433])\n",
      "7\n",
      "10\n",
      "torch.Size([10, 1433])\n",
      "10\n",
      "14\n",
      "torch.Size([14, 1433])\n",
      "14\n",
      "17\n",
      "torch.Size([17, 1433])\n",
      "17\n",
      "15\n",
      "torch.Size([15, 1433])\n",
      "15\n",
      "19\n",
      "torch.Size([19, 1433])\n",
      "19\n",
      "6\n",
      "torch.Size([6, 1433])\n",
      "6\n",
      "7\n",
      "torch.Size([7, 1433])\n",
      "7\n",
      "4\n",
      "torch.Size([4, 1433])\n",
      "4\n",
      "6\n",
      "torch.Size([6, 1433])\n",
      "6\n",
      "4\n",
      "torch.Size([4, 1433])\n",
      "4\n",
      "11\n",
      "torch.Size([11, 1433])\n",
      "11\n",
      "7\n",
      "torch.Size([7, 1433])\n",
      "7\n",
      "7\n",
      "torch.Size([7, 1433])\n",
      "7\n",
      "10\n",
      "torch.Size([10, 1433])\n",
      "10\n",
      "6\n",
      "torch.Size([6, 1433])\n",
      "6\n",
      "14\n",
      "torch.Size([14, 1433])\n",
      "14\n",
      "13\n",
      "torch.Size([13, 1433])\n",
      "13\n",
      "10\n",
      "torch.Size([10, 1433])\n",
      "10\n",
      "21\n",
      "torch.Size([21, 1433])\n",
      "21\n",
      "15\n",
      "torch.Size([15, 1433])\n",
      "15\n",
      "10\n",
      "torch.Size([10, 1433])\n",
      "10\n",
      "7\n",
      "torch.Size([7, 1433])\n",
      "7\n",
      "13\n",
      "torch.Size([13, 1433])\n",
      "13\n",
      "11\n",
      "torch.Size([11, 1433])\n",
      "11\n",
      "9\n",
      "torch.Size([9, 1433])\n",
      "9\n",
      "12\n",
      "torch.Size([12, 1433])\n",
      "12\n",
      "15\n",
      "torch.Size([15, 1433])\n",
      "15\n",
      "11\n",
      "torch.Size([11, 1433])\n",
      "11\n",
      "11\n",
      "torch.Size([11, 1433])\n",
      "11\n",
      "9\n",
      "torch.Size([9, 1433])\n",
      "9\n",
      "10\n",
      "torch.Size([10, 1433])\n",
      "10\n",
      "2\n",
      "torch.Size([2, 1433])\n",
      "2\n",
      "9\n",
      "torch.Size([9, 1433])\n",
      "9\n",
      "14\n",
      "torch.Size([14, 1433])\n",
      "14\n",
      "10\n",
      "torch.Size([10, 1433])\n",
      "10\n",
      "9\n",
      "torch.Size([9, 1433])\n",
      "9\n",
      "10\n",
      "torch.Size([10, 1433])\n",
      "10\n",
      "9\n",
      "torch.Size([9, 1433])\n",
      "9\n",
      "12\n",
      "torch.Size([12, 1433])\n",
      "12\n",
      "9\n",
      "torch.Size([9, 1433])\n",
      "9\n",
      "26\n",
      "torch.Size([26, 1433])\n",
      "26\n",
      "5\n",
      "torch.Size([5, 1433])\n",
      "5\n",
      "8\n",
      "torch.Size([8, 1433])\n",
      "8\n",
      "5\n",
      "torch.Size([5, 1433])\n",
      "5\n",
      "5\n",
      "torch.Size([5, 1433])\n",
      "5\n",
      "15\n",
      "torch.Size([15, 1433])\n",
      "15\n",
      "14\n",
      "torch.Size([14, 1433])\n",
      "14\n",
      "12\n",
      "torch.Size([12, 1433])\n",
      "12\n",
      "14\n",
      "torch.Size([14, 1433])\n",
      "14\n",
      "7\n",
      "torch.Size([7, 1433])\n",
      "7\n",
      "7\n",
      "torch.Size([7, 1433])\n",
      "7\n",
      "7\n",
      "torch.Size([7, 1433])\n",
      "7\n",
      "13\n",
      "torch.Size([13, 1433])\n",
      "13\n",
      "21\n",
      "torch.Size([21, 1433])\n",
      "21\n",
      "14\n",
      "torch.Size([14, 1433])\n",
      "14\n",
      "23\n",
      "torch.Size([23, 1433])\n",
      "23\n",
      "18\n",
      "torch.Size([18, 1433])\n",
      "18\n",
      "10\n",
      "torch.Size([10, 1433])\n",
      "10\n",
      "12\n",
      "torch.Size([12, 1433])\n",
      "12\n",
      "14\n",
      "torch.Size([14, 1433])\n",
      "14\n",
      "12\n",
      "torch.Size([12, 1433])\n",
      "12\n",
      "5\n",
      "torch.Size([5, 1433])\n",
      "5\n",
      "4\n",
      "torch.Size([4, 1433])\n",
      "4\n",
      "13\n",
      "torch.Size([13, 1433])\n",
      "13\n",
      "12\n",
      "torch.Size([12, 1433])\n",
      "12\n",
      "17\n",
      "torch.Size([17, 1433])\n",
      "17\n",
      "8\n",
      "torch.Size([8, 1433])\n",
      "8\n",
      "7\n",
      "torch.Size([7, 1433])\n",
      "7\n",
      "13\n",
      "torch.Size([13, 1433])\n",
      "13\n",
      "10\n",
      "torch.Size([10, 1433])\n",
      "10\n",
      "12\n",
      "torch.Size([12, 1433])\n",
      "12\n",
      "17\n",
      "torch.Size([17, 1433])\n",
      "17\n",
      "2\n",
      "torch.Size([2, 1433])\n",
      "2\n",
      "12\n",
      "torch.Size([12, 1433])\n",
      "12\n",
      "14\n",
      "torch.Size([14, 1433])\n",
      "14\n",
      "15\n",
      "torch.Size([15, 1433])\n",
      "15\n",
      "10\n",
      "torch.Size([10, 1433])\n",
      "10\n",
      "13\n",
      "torch.Size([13, 1433])\n",
      "13\n",
      "9\n",
      "torch.Size([9, 1433])\n",
      "9\n",
      "10\n",
      "torch.Size([10, 1433])\n",
      "10\n",
      "14\n",
      "torch.Size([14, 1433])\n",
      "14\n",
      "25\n",
      "torch.Size([25, 1433])\n",
      "25\n",
      "15\n",
      "torch.Size([15, 1433])\n",
      "15\n",
      "9\n",
      "torch.Size([9, 1433])\n",
      "9\n",
      "15\n",
      "torch.Size([15, 1433])\n",
      "15\n",
      "11\n",
      "torch.Size([11, 1433])\n",
      "11\n",
      "7\n",
      "torch.Size([7, 1433])\n",
      "7\n",
      "18\n",
      "torch.Size([18, 1433])\n",
      "18\n",
      "16\n",
      "torch.Size([16, 1433])\n",
      "16\n",
      "18\n",
      "torch.Size([18, 1433])\n",
      "18\n",
      "9\n",
      "torch.Size([9, 1433])\n",
      "9\n",
      "18\n",
      "torch.Size([18, 1433])\n",
      "18\n",
      "14\n",
      "torch.Size([14, 1433])\n",
      "14\n",
      "9\n",
      "torch.Size([9, 1433])\n",
      "9\n",
      "11\n",
      "torch.Size([11, 1433])\n",
      "11\n",
      "9\n",
      "torch.Size([9, 1433])\n",
      "9\n",
      "8\n",
      "torch.Size([8, 1433])\n",
      "8\n",
      "6\n",
      "torch.Size([6, 1433])\n",
      "6\n",
      "13\n",
      "torch.Size([13, 1433])\n",
      "13\n",
      "27\n",
      "torch.Size([27, 1433])\n",
      "27\n",
      "15\n",
      "torch.Size([15, 1433])\n",
      "15\n",
      "4\n",
      "torch.Size([4, 1433])\n",
      "4\n",
      "8\n",
      "torch.Size([8, 1433])\n",
      "8\n",
      "14\n",
      "torch.Size([14, 1433])\n",
      "14\n",
      "6\n",
      "torch.Size([6, 1433])\n",
      "6\n",
      "6\n",
      "torch.Size([6, 1433])\n",
      "6\n",
      "19\n",
      "torch.Size([19, 1433])\n",
      "19\n",
      "14\n",
      "torch.Size([14, 1433])\n",
      "14\n",
      "13\n",
      "torch.Size([13, 1433])\n",
      "13\n",
      "11\n",
      "torch.Size([11, 1433])\n",
      "11\n",
      "9\n",
      "torch.Size([9, 1433])\n",
      "9\n",
      "9\n",
      "torch.Size([9, 1433])\n",
      "9\n",
      "10\n",
      "torch.Size([10, 1433])\n",
      "10\n",
      "13\n",
      "torch.Size([13, 1433])\n",
      "13\n",
      "11\n",
      "torch.Size([11, 1433])\n",
      "11\n",
      "10\n",
      "torch.Size([10, 1433])\n",
      "10\n",
      "13\n",
      "torch.Size([13, 1433])\n",
      "13\n",
      "11\n",
      "torch.Size([11, 1433])\n",
      "11\n",
      "13\n",
      "torch.Size([13, 1433])\n",
      "13\n",
      "20\n",
      "torch.Size([20, 1433])\n",
      "20\n",
      "8\n",
      "torch.Size([8, 1433])\n",
      "8\n",
      "5\n",
      "torch.Size([5, 1433])\n",
      "5\n",
      "8\n",
      "torch.Size([8, 1433])\n",
      "8\n",
      "6\n",
      "torch.Size([6, 1433])\n",
      "6\n",
      "8\n",
      "torch.Size([8, 1433])\n",
      "8\n",
      "6\n",
      "torch.Size([6, 1433])\n",
      "6\n",
      "13\n",
      "torch.Size([13, 1433])\n",
      "13\n",
      "17\n",
      "torch.Size([17, 1433])\n",
      "17\n",
      "12\n",
      "torch.Size([12, 1433])\n",
      "12\n",
      "2\n",
      "torch.Size([2, 1433])\n",
      "2\n",
      "5\n",
      "torch.Size([5, 1433])\n",
      "5\n",
      "20\n",
      "torch.Size([20, 1433])\n",
      "20\n",
      "11\n",
      "torch.Size([11, 1433])\n",
      "11\n",
      "10\n",
      "torch.Size([10, 1433])\n",
      "10\n",
      "15\n",
      "torch.Size([15, 1433])\n",
      "15\n",
      "12\n",
      "torch.Size([12, 1433])\n",
      "12\n",
      "13\n",
      "torch.Size([13, 1433])\n",
      "13\n",
      "7\n",
      "torch.Size([7, 1433])\n",
      "7\n",
      "6\n",
      "torch.Size([6, 1433])\n",
      "6\n",
      "11\n",
      "torch.Size([11, 1433])\n",
      "11\n",
      "14\n",
      "torch.Size([14, 1433])\n",
      "14\n",
      "18\n",
      "torch.Size([18, 1433])\n",
      "18\n",
      "20\n",
      "torch.Size([20, 1433])\n",
      "20\n",
      "9\n",
      "torch.Size([9, 1433])\n",
      "9\n",
      "7\n",
      "torch.Size([7, 1433])\n",
      "7\n",
      "9\n",
      "torch.Size([9, 1433])\n",
      "9\n",
      "15\n",
      "torch.Size([15, 1433])\n",
      "15\n",
      "13\n",
      "torch.Size([13, 1433])\n",
      "13\n",
      "15\n",
      "torch.Size([15, 1433])\n",
      "15\n",
      "7\n",
      "torch.Size([7, 1433])\n",
      "7\n",
      "9\n",
      "torch.Size([9, 1433])\n",
      "9\n",
      "4\n",
      "torch.Size([4, 1433])\n",
      "4\n",
      "24\n",
      "torch.Size([24, 1433])\n",
      "24\n",
      "7\n",
      "torch.Size([7, 1433])\n",
      "7\n",
      "12\n",
      "torch.Size([12, 1433])\n",
      "12\n",
      "13\n",
      "torch.Size([13, 1433])\n",
      "13\n",
      "14\n",
      "torch.Size([14, 1433])\n",
      "14\n",
      "13\n",
      "torch.Size([13, 1433])\n",
      "13\n",
      "17\n",
      "torch.Size([17, 1433])\n",
      "17\n",
      "8\n",
      "torch.Size([8, 1433])\n",
      "8\n",
      "7\n",
      "torch.Size([7, 1433])\n",
      "7\n",
      "22\n",
      "torch.Size([22, 1433])\n",
      "22\n",
      "12\n",
      "torch.Size([12, 1433])\n",
      "12\n",
      "torch.Size([256])\n",
      "DGLGraph(num_nodes=2779, num_edges=8846,\n",
      "         ndata_schemes={'_ID': Scheme(shape=(), dtype=torch.int64), 'features': Scheme(shape=(1433,), dtype=torch.float32), 'seed': Scheme(shape=(), dtype=torch.int64)}\n",
      "         edata_schemes={'_ID': Scheme(shape=(), dtype=torch.int64)})\n"
     ]
    }
   ],
   "source": [
    "for g, y in train_loader:\n",
    "    print(y.shape)\n",
    "    print(g)\n",
    "    break"
   ]
  },
  {
   "cell_type": "code",
   "execution_count": 6,
   "metadata": {},
   "outputs": [
    {
     "data": {
      "text/plain": [
       "0"
      ]
     },
     "execution_count": 6,
     "metadata": {},
     "output_type": "execute_result"
    }
   ],
   "source": [
    "step_dist=[1.0, 0.0, 0.0]\n",
    "step = np.random.choice(len(step_dist), 1, p=step_dist)[0]\n",
    "step"
   ]
  },
  {
   "cell_type": "code",
   "execution_count": 4,
   "metadata": {},
   "outputs": [],
   "source": [
    "g = dgl.DGLGraph()\n",
    "g.add_nodes(3)\n",
    "g.add_edges([0, 0, 1, 2], [1, 2, 2, 1])\n",
    "g.ndata[\"pos_directed\"] = torch.rand(3, 16)\n",
    "g.ndata[\"pos_undirected\"] = torch.rand(3, 16)\n",
    "g.ndata[\"seed\"] = torch.zeros(3, dtype=torch.long)\n",
    "g.ndata[\"nfreq\"] = torch.ones(3, dtype=torch.long)\n",
    "g.edata[\"efreq\"] = torch.ones(4, dtype=torch.long)\n",
    "g = dgl.batch([g, g, g])"
   ]
  },
  {
   "cell_type": "code",
   "execution_count": 6,
   "metadata": {},
   "outputs": [
    {
     "data": {
      "text/plain": [
       "<9x9 sparse matrix of type '<class 'numpy.float64'>'\n",
       "\twith 12 stored elements in Compressed Sparse Row format>"
      ]
     },
     "execution_count": 6,
     "metadata": {},
     "output_type": "execute_result"
    }
   ],
   "source": [
    "adj_matrix = g.adjacency_matrix_scipy(transpose=False, return_edge_ids=False).astype(float)\n",
    "adj_matrix"
   ]
  },
  {
   "cell_type": "code",
   "execution_count": 20,
   "metadata": {},
   "outputs": [],
   "source": [
    "node_idx = np.array([0, 1, 2, 3])\n",
    "other_node_idx = node_idx"
   ]
  },
  {
   "cell_type": "code",
   "execution_count": 8,
   "metadata": {},
   "outputs": [],
   "source": [
    "traces = dgl.contrib.sampling.random_walk_with_restart(\n",
    "        g,\n",
    "        seeds=[0],\n",
    "        restart_prob=0.8,\n",
    "        max_nodes_per_seed=10,\n",
    "    )"
   ]
  },
  {
   "cell_type": "code",
   "execution_count": 12,
   "metadata": {},
   "outputs": [
    {
     "data": {
      "text/plain": [
       "(tensor([2]),\n",
       " tensor([2, 1]),\n",
       " tensor([2]),\n",
       " tensor([1]),\n",
       " tensor([2]),\n",
       " tensor([1, 2, 1]),\n",
       " tensor([2]))"
      ]
     },
     "execution_count": 12,
     "metadata": {},
     "output_type": "execute_result"
    }
   ],
   "source": [
    "traces[0]"
   ]
  },
  {
   "cell_type": "code",
   "execution_count": null,
   "metadata": {},
   "outputs": [],
   "source": []
  }
 ],
 "metadata": {
  "kernelspec": {
   "display_name": "Pytorch",
   "language": "python",
   "name": "python3"
  },
  "language_info": {
   "codemirror_mode": {
    "name": "ipython",
    "version": 3
   },
   "file_extension": ".py",
   "mimetype": "text/x-python",
   "name": "python",
   "nbconvert_exporter": "python",
   "pygments_lexer": "ipython3",
   "version": "3.8.13"
  }
 },
 "nbformat": 4,
 "nbformat_minor": 2
}
