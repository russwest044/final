{
 "cells": [
  {
   "cell_type": "markdown",
   "metadata": {},
   "source": [
    "## Graph"
   ]
  },
  {
   "cell_type": "markdown",
   "metadata": {},
   "source": [
    "### MAE: random_masking"
   ]
  },
  {
   "cell_type": "code",
   "execution_count": 148,
   "metadata": {},
   "outputs": [
    {
     "data": {
      "text/plain": [
       "tensor([[[0.4242, 0.2900],\n",
       "         [0.3482, 0.5577],\n",
       "         [0.2255, 0.1098],\n",
       "         [0.8989, 0.5212],\n",
       "         [0.7968, 0.0127]],\n",
       "\n",
       "        [[0.3815, 0.1038],\n",
       "         [0.2913, 0.9885],\n",
       "         [0.6024, 0.2209],\n",
       "         [0.1044, 0.9607],\n",
       "         [0.6929, 0.2405]],\n",
       "\n",
       "        [[0.1717, 0.6199],\n",
       "         [0.4443, 0.0392],\n",
       "         [0.0725, 0.5095],\n",
       "         [0.2704, 0.8845],\n",
       "         [0.1892, 0.1595]],\n",
       "\n",
       "        [[0.6444, 0.4932],\n",
       "         [0.7901, 0.1293],\n",
       "         [0.1907, 0.7914],\n",
       "         [0.7692, 0.4905],\n",
       "         [0.1445, 0.6353]]])"
      ]
     },
     "execution_count": 148,
     "metadata": {},
     "output_type": "execute_result"
    }
   ],
   "source": [
    "x = torch.rand((4, 5, 2))\n",
    "x"
   ]
  },
  {
   "cell_type": "code",
   "execution_count": 62,
   "metadata": {},
   "outputs": [
    {
     "data": {
      "text/plain": [
       "tensor([[0.0835, 0.5561, 0.9291, 0.7978, 0.9702],\n",
       "        [0.5953, 0.2089, 0.5204, 0.3862, 0.4703],\n",
       "        [0.1807, 0.2943, 0.8598, 0.4118, 0.7235],\n",
       "        [0.1801, 0.3224, 0.7655, 0.5698, 0.9442]])"
      ]
     },
     "execution_count": 62,
     "metadata": {},
     "output_type": "execute_result"
    }
   ],
   "source": [
    "noise = torch.rand(4, 5)\n",
    "noise"
   ]
  },
  {
   "cell_type": "code",
   "execution_count": 63,
   "metadata": {},
   "outputs": [
    {
     "data": {
      "text/plain": [
       "tensor([[0, 1, 3, 2, 4],\n",
       "        [1, 3, 4, 2, 0],\n",
       "        [0, 1, 3, 4, 2],\n",
       "        [0, 1, 3, 2, 4]])"
      ]
     },
     "execution_count": 63,
     "metadata": {},
     "output_type": "execute_result"
    }
   ],
   "source": [
    "ids_shuffle = torch.argsort(noise, dim=1)  # ascend: small is keep, large is remove\n",
    "ids_shuffle"
   ]
  },
  {
   "cell_type": "code",
   "execution_count": 64,
   "metadata": {},
   "outputs": [
    {
     "data": {
      "text/plain": [
       "tensor([[0, 1, 3, 2, 4],\n",
       "        [4, 0, 3, 1, 2],\n",
       "        [0, 1, 4, 2, 3],\n",
       "        [0, 1, 3, 2, 4]])"
      ]
     },
     "execution_count": 64,
     "metadata": {},
     "output_type": "execute_result"
    }
   ],
   "source": [
    "ids_restore = torch.argsort(ids_shuffle, dim=1)\n",
    "ids_restore"
   ]
  },
  {
   "cell_type": "code",
   "execution_count": 65,
   "metadata": {},
   "outputs": [
    {
     "data": {
      "text/plain": [
       "tensor([[0, 1, 3],\n",
       "        [1, 3, 4],\n",
       "        [0, 1, 3],\n",
       "        [0, 1, 3]])"
      ]
     },
     "execution_count": 65,
     "metadata": {},
     "output_type": "execute_result"
    }
   ],
   "source": [
    "ids_keep = ids_shuffle[:, :3]\n",
    "ids_keep"
   ]
  },
  {
   "cell_type": "code",
   "execution_count": 66,
   "metadata": {},
   "outputs": [
    {
     "data": {
      "text/plain": [
       "tensor([[[0.0841, 0.7777],\n",
       "         [0.2600, 0.6878],\n",
       "         [0.5623, 0.3064]],\n",
       "\n",
       "        [[0.5746, 0.9682],\n",
       "         [0.3447, 0.8661],\n",
       "         [0.1676, 0.4896]],\n",
       "\n",
       "        [[0.4387, 0.9735],\n",
       "         [0.8970, 0.7504],\n",
       "         [0.7708, 0.4949]],\n",
       "\n",
       "        [[0.0260, 0.9256],\n",
       "         [0.9354, 0.9779],\n",
       "         [0.6392, 0.9462]]])"
      ]
     },
     "execution_count": 66,
     "metadata": {},
     "output_type": "execute_result"
    }
   ],
   "source": [
    "x_masked = torch.gather(x, dim=1, index=ids_keep.unsqueeze(-1).repeat(1, 1, 2))\n",
    "x_masked"
   ]
  },
  {
   "cell_type": "code",
   "execution_count": 67,
   "metadata": {},
   "outputs": [
    {
     "data": {
      "text/plain": [
       "tensor([[0., 0., 1., 0., 1.],\n",
       "        [1., 0., 1., 0., 0.],\n",
       "        [0., 0., 1., 0., 1.],\n",
       "        [0., 0., 1., 0., 1.]])"
      ]
     },
     "execution_count": 67,
     "metadata": {},
     "output_type": "execute_result"
    }
   ],
   "source": [
    "mask = torch.ones([4, 5], device=x.device)\n",
    "mask[:, :3] = 0\n",
    "# unshuffle to get the binary mask\n",
    "mask = torch.gather(mask, dim=1, index=ids_restore)\n",
    "mask"
   ]
  },
  {
   "cell_type": "markdown",
   "metadata": {},
   "source": [
    "### Debug:"
   ]
  },
  {
   "cell_type": "code",
   "execution_count": 1,
   "metadata": {},
   "outputs": [
    {
     "name": "stdout",
     "output_type": "stream",
     "text": [
      "<function moco_graph_encoder at 0x7f81808a4790>\n"
     ]
    }
   ],
   "source": [
    "import moco as moco\n",
    "\n",
    "print(moco.__dict__['moco_graph_encoder'])"
   ]
  },
  {
   "cell_type": "code",
   "execution_count": 13,
   "metadata": {},
   "outputs": [
    {
     "name": "stdout",
     "output_type": "stream",
     "text": [
      "tensor([[0.0808, 0.9130],\n",
      "        [0.8778, 0.8021],\n",
      "        [0.0944, 0.6027],\n",
      "        [0.2141, 0.1238]])\n",
      "tensor([[0.8555, 0.2620],\n",
      "        [0.9656, 0.1462],\n",
      "        [0.1758, 0.5150],\n",
      "        [0.4018, 0.3649]])\n"
     ]
    }
   ],
   "source": [
    "h_pl = torch.rand((4, 2))\n",
    "c = torch.rand((4, 2))\n",
    "print(h_pl)\n",
    "print(c)"
   ]
  },
  {
   "cell_type": "code",
   "execution_count": 14,
   "metadata": {},
   "outputs": [
    {
     "data": {
      "text/plain": [
       "[tensor([[ 0.3055],\n",
       "         [ 0.4926],\n",
       "         [-0.1603],\n",
       "         [-0.1570]], grad_fn=<AddBackward0>)]"
      ]
     },
     "execution_count": 14,
     "metadata": {},
     "output_type": "execute_result"
    }
   ],
   "source": [
    "import torch.nn as nn\n",
    "\n",
    "n_h = 2\n",
    "f_k = nn.Bilinear(n_h, n_h, 1)\n",
    "\n",
    "scs = []\n",
    "scs.append(f_k(h_pl, c))\n",
    "scs"
   ]
  },
  {
   "cell_type": "code",
   "execution_count": 15,
   "metadata": {},
   "outputs": [
    {
     "name": "stdout",
     "output_type": "stream",
     "text": [
      "tensor([[0.1758, 0.5150],\n",
      "        [0.8555, 0.2620],\n",
      "        [0.9656, 0.1462],\n",
      "        [0.1758, 0.5150]])\n"
     ]
    }
   ],
   "source": [
    "c_mi = c\n",
    "negsamp_round = 1\n",
    "for _ in range(negsamp_round):\n",
    "    c_mi = torch.cat((c_mi[-2:-1,:], c_mi[:-1,:]),0)\n",
    "    print(c_mi)\n",
    "    scs.append(f_k(h_pl, c_mi))"
   ]
  },
  {
   "cell_type": "code",
   "execution_count": 17,
   "metadata": {},
   "outputs": [
    {
     "name": "stdout",
     "output_type": "stream",
     "text": [
      "[tensor([[ 0.3055],\n",
      "        [ 0.4926],\n",
      "        [-0.1603],\n",
      "        [-0.1570]], grad_fn=<AddBackward0>), tensor([[-0.1441],\n",
      "        [ 0.3266],\n",
      "        [ 0.2137],\n",
      "        [-0.2137]], grad_fn=<AddBackward0>)]\n"
     ]
    }
   ],
   "source": [
    "print(scs)"
   ]
  },
  {
   "cell_type": "code",
   "execution_count": 16,
   "metadata": {},
   "outputs": [
    {
     "data": {
      "text/plain": [
       "tensor([[ 0.3055],\n",
       "        [ 0.4926],\n",
       "        [-0.1603],\n",
       "        [-0.1570],\n",
       "        [-0.1441],\n",
       "        [ 0.3266],\n",
       "        [ 0.2137],\n",
       "        [-0.2137]], grad_fn=<CatBackward0>)"
      ]
     },
     "execution_count": 16,
     "metadata": {},
     "output_type": "execute_result"
    }
   ],
   "source": [
    "logits = torch.cat(tuple(scs))\n",
    "logits"
   ]
  },
  {
   "cell_type": "code",
   "execution_count": 18,
   "metadata": {},
   "outputs": [
    {
     "data": {
      "text/plain": [
       "tensor([[[0.2789, 0.2368],\n",
       "         [0.8589, 0.8995],\n",
       "         [0.1355, 0.6173],\n",
       "         [0.6932, 0.8482],\n",
       "         [0.6499, 0.5748]],\n",
       "\n",
       "        [[0.4149, 0.4989],\n",
       "         [0.7000, 0.2095],\n",
       "         [0.5814, 0.5955],\n",
       "         [0.2664, 0.6382],\n",
       "         [0.3337, 0.7935]],\n",
       "\n",
       "        [[0.2979, 0.6018],\n",
       "         [0.3499, 0.3546],\n",
       "         [0.2195, 0.0341],\n",
       "         [0.2673, 0.9819],\n",
       "         [0.3262, 0.5714]],\n",
       "\n",
       "        [[0.9486, 0.0165],\n",
       "         [0.0677, 0.1777],\n",
       "         [0.0727, 0.1079],\n",
       "         [0.3486, 0.1212],\n",
       "         [0.0447, 0.4711]]])"
      ]
     },
     "execution_count": 18,
     "metadata": {},
     "output_type": "execute_result"
    }
   ],
   "source": [
    "x = torch.rand((4, 5, 2))\n",
    "x"
   ]
  },
  {
   "cell_type": "code",
   "execution_count": 19,
   "metadata": {},
   "outputs": [
    {
     "data": {
      "text/plain": [
       "tensor([[0.2789, 0.2368],\n",
       "        [0.4149, 0.4989],\n",
       "        [0.2979, 0.6018],\n",
       "        [0.9486, 0.0165]])"
      ]
     },
     "execution_count": 19,
     "metadata": {},
     "output_type": "execute_result"
    }
   ],
   "source": [
    "x[:, 0, :]"
   ]
  },
  {
   "cell_type": "code",
   "execution_count": 57,
   "metadata": {},
   "outputs": [
    {
     "name": "stdout",
     "output_type": "stream",
     "text": [
      "torch.Size([1, 1433])\n"
     ]
    }
   ],
   "source": [
    "from dgl.nn.pytorch.glob import AvgPooling\n",
    "\n",
    "avg = AvgPooling()\n",
    "\n",
    "out = avg(temp, temp.ndata[\"features\"])\n",
    "print(out.shape)"
   ]
  },
  {
   "cell_type": "code",
   "execution_count": 58,
   "metadata": {},
   "outputs": [],
   "source": [
    "out = out.to(torch.float32)"
   ]
  },
  {
   "cell_type": "code",
   "execution_count": 59,
   "metadata": {},
   "outputs": [
    {
     "name": "stdout",
     "output_type": "stream",
     "text": [
      "torch.Size([1, 32])\n"
     ]
    }
   ],
   "source": [
    "drop = nn.Dropout(0.2)\n",
    "linear = nn.Linear(1433, 32)\n",
    "out = drop(linear(out))\n",
    "print(out.shape)"
   ]
  },
  {
   "cell_type": "code",
   "execution_count": 60,
   "metadata": {},
   "outputs": [],
   "source": [
    "score_over_layer = 0\n",
    "score_over_layer += out"
   ]
  },
  {
   "cell_type": "code",
   "execution_count": 62,
   "metadata": {},
   "outputs": [
    {
     "data": {
      "text/plain": [
       "torch.Size([1, 32])"
      ]
     },
     "execution_count": 62,
     "metadata": {},
     "output_type": "execute_result"
    }
   ],
   "source": [
    "score_over_layer.shape"
   ]
  },
  {
   "cell_type": "code",
   "execution_count": 91,
   "metadata": {},
   "outputs": [
    {
     "name": "stdout",
     "output_type": "stream",
     "text": [
      "tensor([[-0.4061, -0.9381],\n",
      "        [-0.6663,  0.9505],\n",
      "        [ 0.6383,  1.0689],\n",
      "        [ 1.8522, -0.2765]])\n"
     ]
    }
   ],
   "source": [
    "import torch\n",
    "\n",
    "# Sinkhorn-Knopp\n",
    "def sinkhorn(scores, eps=0.05, niters=3):\n",
    "    Q = torch.exp(scores / eps).T\n",
    "    Q /= sum(Q)\n",
    "    K, B = Q.shape\n",
    "    u, r, c = torch.zeros(K), torch.ones(K) / K, torch.ones(B) / B\n",
    "    for _ in range(niters):\n",
    "        u = torch.sum(Q, dim=1)\n",
    "        Q *= (r / u).unsqueeze(1)\n",
    "        Q *= (c / torch.sum(Q, dim=0)).unsqueeze(0)\n",
    "    return (Q / torch.sum(Q, dim=0, keepdim=True)).T\n",
    "\n",
    "z = torch.randn((4, 2))\n",
    "print(z)"
   ]
  },
  {
   "cell_type": "code",
   "execution_count": 93,
   "metadata": {},
   "outputs": [
    {
     "data": {
      "text/plain": [
       "tensor([[9.9998e-01, 2.3970e-05],\n",
       "        [9.0603e-15, 1.0000e+00],\n",
       "        [1.8182e-04, 9.9982e-01],\n",
       "        [1.0000e+00, 3.2391e-19]])"
      ]
     },
     "execution_count": 93,
     "metadata": {},
     "output_type": "execute_result"
    }
   ],
   "source": [
    "x = sinkhorn(z)\n",
    "x"
   ]
  },
  {
   "cell_type": "code",
   "execution_count": 150,
   "metadata": {},
   "outputs": [
    {
     "name": "stdout",
     "output_type": "stream",
     "text": [
      "tensor([[0.8667, 0.7765, 0.2961, 0.1600]])\n",
      "tensor([[0.3365, 0.3074, 0.1902, 0.1660]])\n"
     ]
    }
   ],
   "source": [
    "a = torch.rand((1, 4))\n",
    "print(a)\n",
    "b = F.softmax(a, dim=1)\n",
    "print(b)"
   ]
  },
  {
   "cell_type": "code",
   "execution_count": 151,
   "metadata": {},
   "outputs": [
    {
     "name": "stdout",
     "output_type": "stream",
     "text": [
      "tensor([[2.9739, 2.7173, 1.6808, 1.4670]])\n"
     ]
    }
   ],
   "source": [
    "T = 0.8\n",
    "numerator = np.exp(a) / T\n",
    "print(numerator)"
   ]
  },
  {
   "cell_type": "code",
   "execution_count": null,
   "metadata": {},
   "outputs": [],
   "source": []
  },
  {
   "cell_type": "markdown",
   "metadata": {},
   "source": [
    "### Mahalanobis"
   ]
  },
  {
   "cell_type": "code",
   "execution_count": 268,
   "metadata": {},
   "outputs": [
    {
     "name": "stdout",
     "output_type": "stream",
     "text": [
      "num of layers:  5\n",
      "size of each layer:  torch.Size([32, 64, 32, 32])\n",
      "size of each layer:  torch.Size([32, 64, 32, 32])\n",
      "size of each layer:  torch.Size([32, 128, 16, 16])\n",
      "size of each layer:  torch.Size([32, 256, 8, 8])\n",
      "size of each layer:  torch.Size([32, 512, 4, 4])\n",
      "feature_list: [ 64.  64. 128. 256. 512.]\n"
     ]
    }
   ],
   "source": [
    "# load networks\n",
    "from resnet import ResNet34\n",
    "model = ResNet34(num_c=10)\n",
    "\n",
    "# set information about feature extaction\n",
    "model.eval()\n",
    "temp_x = torch.rand(32, 3, 32, 32)\n",
    "temp_x = temp_x.detach()\n",
    "temp_list = model.feature_list(temp_x)[1] # (B, C, H, W)\n",
    "num_output = len(temp_list)\n",
    "print(\"num of layers: \", num_output)\n",
    "for i in range(len(temp_list)):\n",
    "    print(\"size of each layer: \", temp_list[i].shape)\n",
    "\n",
    "feature_list = np.empty(num_output) # [0] * num_layers\n",
    "count = 0\n",
    "for out in temp_list:\n",
    "    feature_list[count] = out.size(1) # C\n",
    "    count += 1\n",
    "print(\"feature_list:\", feature_list)"
   ]
  },
  {
   "cell_type": "code",
   "execution_count": 269,
   "metadata": {},
   "outputs": [
    {
     "name": "stdout",
     "output_type": "stream",
     "text": [
      "torch.Size([32, 64])\n",
      "torch.Size([32, 64])\n",
      "torch.Size([32, 128])\n",
      "torch.Size([32, 256])\n",
      "torch.Size([32, 512])\n"
     ]
    }
   ],
   "source": [
    "out_features = temp_list\n",
    "for i in range(num_output):\n",
    "    out_features[i] = out_features[i].view(out_features[i].size(0), out_features[i].size(1), -1) # (B, C, H*W)\n",
    "    out_features[i] = torch.mean(out_features[i].data, 2) # (B, C)\n",
    "    print(out_features[i].data.shape)"
   ]
  },
  {
   "cell_type": "code",
   "execution_count": 271,
   "metadata": {},
   "outputs": [],
   "source": [
    "num_classes = 10\n",
    "num_sample_per_class = np.empty(num_classes) # [0] * 10\n",
    "num_sample_per_class.fill(0)\n",
    "list_features = []\n",
    "for i in range(num_output):\n",
    "    temp_list = [] # [0] * 10\n",
    "    for j in range(num_classes):\n",
    "        temp_list.append(0)\n",
    "    list_features.append(temp_list) # [[0] * 10] * num_layers\n",
    "\n",
    "target = torch.randint(0, 10, (32, ))\n",
    "data = temp_x\n",
    "\n",
    "# construct the sample matrix\n",
    "for i in range(data.size(0)): # [0, B-1]\n",
    "    label = target[i]\n",
    "    if num_sample_per_class[label] == 0:\n",
    "        out_count = 0\n",
    "        for out in out_features: # out: (B, num_feature)\n",
    "            list_features[out_count][label] = out[i].view(1, -1) # (1, num_feature)\n",
    "            out_count += 1\n",
    "    else:\n",
    "        out_count = 0\n",
    "        for out in out_features:\n",
    "            list_features[out_count][label] \\\n",
    "            = torch.cat((list_features[out_count][label], out[i].view(1, -1)), 0)\n",
    "            out_count += 1                \n",
    "    num_sample_per_class[label] += 1"
   ]
  },
  {
   "cell_type": "code",
   "execution_count": 275,
   "metadata": {},
   "outputs": [
    {
     "name": "stdout",
     "output_type": "stream",
     "text": [
      "5\n",
      "10\n",
      "32\n",
      "64\n"
     ]
    }
   ],
   "source": [
    "# (num_layers, num_class, N_c, C)\n",
    "print(len(list_features))\n",
    "print(len(list_features[0]))\n",
    "tmp = 0\n",
    "for i in range(num_classes):\n",
    "    tmp += len(list_features[0][i])\n",
    "print(tmp)\n",
    "print(len(list_features[0][0][0]))"
   ]
  },
  {
   "cell_type": "code",
   "execution_count": 286,
   "metadata": {},
   "outputs": [
    {
     "name": "stdout",
     "output_type": "stream",
     "text": [
      "5\n",
      "torch.Size([10, 64])\n"
     ]
    }
   ],
   "source": [
    "sample_class_mean = [] # [(num_classes, C)] * num_layers\n",
    "out_count = 0\n",
    "for num_feature in feature_list: # num_layers\n",
    "    temp_list = torch.Tensor(num_classes, int(num_feature)) # (num_classes, C)\n",
    "    for j in range(num_classes):\n",
    "        temp_list[j] = torch.mean(list_features[out_count][j], 0) # (N_c, C) -> (1, C)\n",
    "    sample_class_mean.append(temp_list)\n",
    "    out_count += 1\n",
    "print(len(sample_class_mean))\n",
    "print(sample_class_mean[0].shape)"
   ]
  },
  {
   "cell_type": "code",
   "execution_count": 293,
   "metadata": {},
   "outputs": [
    {
     "name": "stdout",
     "output_type": "stream",
     "text": [
      "5\n",
      "torch.Size([64, 64])\n"
     ]
    }
   ],
   "source": [
    "import sklearn.covariance\n",
    "\n",
    "group_lasso = sklearn.covariance.EmpiricalCovariance(assume_centered=False)\n",
    "\n",
    "precision = []\n",
    "for k in range(num_output):\n",
    "    X = 0\n",
    "    for i in range(num_classes):\n",
    "        if i == 0:\n",
    "            X = list_features[k][i] - sample_class_mean[k][i] # (N_c, C)\n",
    "        else:\n",
    "            X = torch.cat((X, list_features[k][i] - sample_class_mean[k][i]), 0) # (N, C)\n",
    "    # find inverse            \n",
    "    group_lasso.fit(X.numpy())\n",
    "    temp_precision = group_lasso.precision_\n",
    "    temp_precision = torch.from_numpy(temp_precision).float() # (C, N)\n",
    "    precision.append(temp_precision) # [(C, N)] * num_layers\n",
    "print(len(precision))\n",
    "print(precision[0].shape) # [(C, C)] * num_layers"
   ]
  },
  {
   "cell_type": "code",
   "execution_count": 345,
   "metadata": {},
   "outputs": [
    {
     "name": "stdout",
     "output_type": "stream",
     "text": [
      "tensor([[ 0.4317,  0.1070],\n",
      "        [-0.3850, -0.6187],\n",
      "        [ 0.4838,  0.0031]])\n",
      "tensor([[-2.2033,  2.2806],\n",
      "        [ 0.0719,  1.6152]])\n"
     ]
    }
   ],
   "source": [
    "x = torch.randn((3, 2)) # (B, C)\n",
    "sigma = torch.randn((2, 2)) # (C, C)\n",
    "print(x)\n",
    "print(sigma)"
   ]
  },
  {
   "cell_type": "code",
   "execution_count": 353,
   "metadata": {},
   "outputs": [
    {
     "name": "stdout",
     "output_type": "stream",
     "text": [
      "torch.Size([3, 1])\n"
     ]
    }
   ],
   "source": [
    "y = torch.mm(torch.mm(x, sigma), x.t()).diag()\n",
    "y = y.view(-1, 1)\n",
    "print(y.shape)"
   ]
  },
  {
   "cell_type": "code",
   "execution_count": 358,
   "metadata": {},
   "outputs": [
    {
     "name": "stdout",
     "output_type": "stream",
     "text": [
      "tensor([[-0.2834,  0.0621],\n",
      "        [ 0.8519, -0.5122],\n",
      "        [-0.5122,  0.8572]])\n",
      "torch.Size([3, 2])\n"
     ]
    }
   ],
   "source": [
    "t = torch.randn((3, 1))\n",
    "t = torch.cat((y, t), 1)\n",
    "print(t)\n",
    "print(t.shape)"
   ]
  },
  {
   "cell_type": "code",
   "execution_count": 361,
   "metadata": {},
   "outputs": [
    {
     "data": {
      "text/plain": [
       "torch.return_types.max(\n",
       "values=tensor([0.0621, 0.8519, 0.8572]),\n",
       "indices=tensor([1, 0, 1]))"
      ]
     },
     "execution_count": 361,
     "metadata": {},
     "output_type": "execute_result"
    }
   ],
   "source": [
    "t.max(1)"
   ]
  },
  {
   "cell_type": "code",
   "execution_count": 374,
   "metadata": {},
   "outputs": [
    {
     "name": "stdout",
     "output_type": "stream",
     "text": [
      "torch.Size([4])\n"
     ]
    },
    {
     "data": {
      "text/plain": [
       "tensor([ 0.1002, -1.0799,  0.3467,  0.8103])"
      ]
     },
     "execution_count": 374,
     "metadata": {},
     "output_type": "execute_result"
    }
   ],
   "source": [
    "x = torch.randn((4, 2))\n",
    "y = torch.randn((4, 2))\n",
    "z = torch.sum(x * y, dim=1)\n",
    "print(z.shape)\n",
    "z"
   ]
  },
  {
   "cell_type": "code",
   "execution_count": 376,
   "metadata": {},
   "outputs": [
    {
     "name": "stdout",
     "output_type": "stream",
     "text": [
      "tensor(0.1002)\n",
      "tensor(-1.0799)\n",
      "tensor(0.3467)\n",
      "tensor(0.8103)\n"
     ]
    }
   ],
   "source": [
    "for i in range(4):\n",
    "    print(sum(x[i]*y[i]))    "
   ]
  },
  {
   "cell_type": "code",
   "execution_count": 12,
   "metadata": {},
   "outputs": [
    {
     "name": "stdout",
     "output_type": "stream",
     "text": [
      "基于欧氏距离的 K-means 聚类结果： [0 0 1 0 0 0 1 1 0 1 1 1 0 0 1 1 0 0 1 1 0 0 0 0 1 0 0 0 1 1 1 1 0 0 0 1 0\n",
      " 0 1 1 0 1 1 0 1 0 0 0 1 1 0 0 1 0 1 1 0 0 1 0 0 1 1 0 0 1 1 1 0 0 1 1 1 0\n",
      " 1 1 0 1 0 0 0 0 0 1 0 1 1 1 1 1 1 0 0 0 1 0 0 1 0 0]\n",
      "基于马氏距离的 K-means 聚类结果： [0 0 1 0 0 0 1 1 1 1 1 1 0 1 1 1 0 0 1 1 1 0 0 1 1 0 0 0 1 1 1 1 1 0 0 1 0\n",
      " 0 1 1 0 1 1 0 0 0 0 0 1 1 0 1 1 0 1 1 0 0 1 0 0 1 1 0 1 1 1 1 0 0 1 1 1 0\n",
      " 1 1 1 1 0 0 0 0 0 1 1 1 1 1 1 1 1 0 0 0 1 0 0 1 0 0]\n",
      "基于马氏距离的 K-means 聚类的轮廓系数： 0.3397246387107845\n",
      "基于马氏距离的 K-means 聚类的轮廓系数： 0.3736980583593435\n"
     ]
    }
   ],
   "source": [
    "from sklearn.cluster import KMeans\n",
    "import numpy as np\n",
    "from sklearn.metrics import silhouette_score\n",
    "\n",
    "# 生成一些示例数据\n",
    "np.random.seed(42)\n",
    "X = np.random.rand(100, 2)\n",
    "\n",
    "# 计算协方差矩阵的逆\n",
    "cov_matrix_inv = np.linalg.inv(np.cov(X, rowvar=False))\n",
    "\n",
    "# 中心化数据集\n",
    "mean = np.mean(X, axis=0)\n",
    "X_centered = X - mean\n",
    "\n",
    "# 变换数据集\n",
    "X_transformed = np.dot(X_centered, cov_matrix_inv)\n",
    "\n",
    "# 使用 scikit-learn 的 KMeans 基于欧氏距离\n",
    "kmeans_euclidean = KMeans(n_clusters=2, init='k-means++', n_init='auto', algorithm='lloyd', random_state=42)\n",
    "kmeans_euclidean.fit(X)\n",
    "\n",
    "# 使用 scikit-learn 的 KMeans 基于马氏距离\n",
    "kmeans_mahalanobis = KMeans(n_clusters=2, init='k-means++', n_init='auto', algorithm='lloyd', random_state=42)\n",
    "kmeans_mahalanobis.fit(X_transformed)\n",
    "\n",
    "# 获取聚类结果\n",
    "labels_euclidean = kmeans_euclidean.labels_\n",
    "labels_mahalanobis = kmeans_mahalanobis.labels_\n",
    "\n",
    "# 打印聚类结果\n",
    "print(\"基于欧氏距离的 K-means 聚类结果：\", labels_euclidean)\n",
    "print(\"基于马氏距离的 K-means 聚类结果：\", labels_mahalanobis)\n",
    "\n",
    "# 计算基于马氏距离的 K-means 聚类的轮廓系数\n",
    "silhouette_score_ou = silhouette_score(X, labels_mahalanobis)\n",
    "silhouette_score_mahalanobis = silhouette_score(X_transformed, labels_mahalanobis)\n",
    "\n",
    "# 打印基于马氏距离的 K-means 聚类的轮廓系数\n",
    "print(\"基于马氏距离的 K-means 聚类的轮廓系数：\", silhouette_score_ou)\n",
    "print(\"基于马氏距离的 K-means 聚类的轮廓系数：\", silhouette_score_mahalanobis)\n"
   ]
  },
  {
   "cell_type": "markdown",
   "metadata": {},
   "source": [
    "### 调试"
   ]
  },
  {
   "cell_type": "code",
   "execution_count": 6,
   "metadata": {},
   "outputs": [],
   "source": [
    "import math\n",
    "import dgl\n",
    "import time\n",
    "import torch\n",
    "import numpy as np\n",
    "import random\n",
    "import warnings\n",
    "# from functools import partial\n",
    "from utils import *\n",
    "import clustering\n",
    "from deprecated.dataset import GraphDataset\n",
    "from deprecated.model import dmc\n",
    "from sklearn.metrics import roc_auc_score"
   ]
  },
  {
   "cell_type": "code",
   "execution_count": 15,
   "metadata": {},
   "outputs": [
    {
     "name": "stdout",
     "output_type": "stream",
     "text": [
      "<class 'scipy.sparse._csr.csr_matrix'>\n",
      "feature_dim:  torch.Size([2708, 1433])\n"
     ]
    }
   ],
   "source": [
    "import torch\n",
    "import numpy as np\n",
    "from utils import *\n",
    "from deprecated.dataset import GraphDataset\n",
    "\n",
    "device = torch.device('cuda:0' if torch.cuda.is_available() else 'cpu')\n",
    "adj, features, labels, ano_labels = load(\"cora\")\n",
    "print(type(adj))\n",
    "# adj = adj.todense()\n",
    "features = preprocess_features(features)\n",
    "features = torch.FloatTensor(features)\n",
    "print(\"feature_dim: \", features.shape)\n",
    "# adj = torch.FloatTensor(adj)\n",
    "labels = torch.FloatTensor(labels)\n",
    "\n",
    "train_dataset = GraphDataset(adj=adj, features=features, aug=None)\n",
    "train_loader = torch.utils.data.DataLoader(\n",
    "        dataset=train_dataset,\n",
    "        batch_size=256,\n",
    "        collate_fn=labeled_batcher(),\n",
    "        shuffle=True,\n",
    "        pin_memory=True,\n",
    "        sampler=None,\n",
    "        drop_last=True\n",
    "    )"
   ]
  },
  {
   "cell_type": "code",
   "execution_count": 2,
   "metadata": {},
   "outputs": [
    {
     "data": {
      "text/plain": [
       "array([1, 0, 1, ..., 0, 0, 0], dtype=uint8)"
      ]
     },
     "execution_count": 2,
     "metadata": {},
     "output_type": "execute_result"
    }
   ],
   "source": [
    "ano_labels"
   ]
  },
  {
   "cell_type": "code",
   "execution_count": 6,
   "metadata": {},
   "outputs": [
    {
     "data": {
      "text/plain": [
       "0"
      ]
     },
     "execution_count": 6,
     "metadata": {},
     "output_type": "execute_result"
    }
   ],
   "source": [
    "# testing\n",
    "test_loader = torch.utils.data.DataLoader(\n",
    "    dataset=train_dataset,\n",
    "    batch_size=args.batch_size,\n",
    "    collate_fn=labeled_batcher(),\n",
    "    shuffle=False,\n",
    "    pin_memory=True,\n",
    "    drop_last=True\n",
    ")\n",
    "\n",
    "test_anomaly(test_loader, model, device)"
   ]
  },
  {
   "cell_type": "code",
   "execution_count": 4,
   "metadata": {},
   "outputs": [],
   "source": [
    "g = dgl.DGLGraph()\n",
    "g.add_nodes(3)\n",
    "g.add_edges([0, 0, 1, 2], [1, 2, 2, 1])\n",
    "g.ndata[\"pos_directed\"] = torch.rand(3, 16)\n",
    "g.ndata[\"pos_undirected\"] = torch.rand(3, 16)\n",
    "g.ndata[\"seed\"] = torch.zeros(3, dtype=torch.long)\n",
    "g.ndata[\"nfreq\"] = torch.ones(3, dtype=torch.long)\n",
    "g.edata[\"efreq\"] = torch.ones(4, dtype=torch.long)\n",
    "g = dgl.batch([g, g, g])"
   ]
  },
  {
   "cell_type": "code",
   "execution_count": 6,
   "metadata": {},
   "outputs": [
    {
     "data": {
      "text/plain": [
       "<9x9 sparse matrix of type '<class 'numpy.float64'>'\n",
       "\twith 12 stored elements in Compressed Sparse Row format>"
      ]
     },
     "execution_count": 6,
     "metadata": {},
     "output_type": "execute_result"
    }
   ],
   "source": [
    "adj_matrix = g.adjacency_matrix_scipy(transpose=False, return_edge_ids=False).astype(float)\n",
    "adj_matrix"
   ]
  },
  {
   "cell_type": "code",
   "execution_count": 20,
   "metadata": {},
   "outputs": [],
   "source": [
    "node_idx = np.array([0, 1, 2, 3])\n",
    "other_node_idx = node_idx"
   ]
  },
  {
   "cell_type": "code",
   "execution_count": 8,
   "metadata": {},
   "outputs": [],
   "source": [
    "traces = dgl.contrib.sampling.random_walk_with_restart(\n",
    "        g,\n",
    "        seeds=[0],\n",
    "        restart_prob=0.8,\n",
    "        max_nodes_per_seed=10,\n",
    "    )"
   ]
  },
  {
   "cell_type": "code",
   "execution_count": 12,
   "metadata": {},
   "outputs": [
    {
     "data": {
      "text/plain": [
       "(tensor([2]),\n",
       " tensor([2, 1]),\n",
       " tensor([2]),\n",
       " tensor([1]),\n",
       " tensor([2]),\n",
       " tensor([1, 2, 1]),\n",
       " tensor([2]))"
      ]
     },
     "execution_count": 12,
     "metadata": {},
     "output_type": "execute_result"
    }
   ],
   "source": [
    "traces[0]"
   ]
  },
  {
   "cell_type": "code",
   "execution_count": 11,
   "metadata": {},
   "outputs": [
    {
     "data": {
      "text/plain": [
       "tensor([[6, 1, 8],\n",
       "        [7, 3, 9],\n",
       "        [2, 6, 2],\n",
       "        [6, 8, 1]])"
      ]
     },
     "execution_count": 11,
     "metadata": {},
     "output_type": "execute_result"
    }
   ],
   "source": [
    "x = torch.randint(0, 10, (4, 3))\n",
    "x"
   ]
  },
  {
   "cell_type": "code",
   "execution_count": 12,
   "metadata": {},
   "outputs": [
    {
     "data": {
      "text/plain": [
       "tensor([[6],\n",
       "        [3],\n",
       "        [2],\n",
       "        [8]])"
      ]
     },
     "execution_count": 12,
     "metadata": {},
     "output_type": "execute_result"
    }
   ],
   "source": [
    "index = [0, 1, 2, 1]\n",
    "x[torch.arange(x.shape[0]), index].unsqueeze(dim=-1)"
   ]
  },
  {
   "cell_type": "code",
   "execution_count": 18,
   "metadata": {},
   "outputs": [
    {
     "name": "stdout",
     "output_type": "stream",
     "text": [
      "  (4, 0)\t0.8808502039804483\n",
      "  (4, 3)\t0.2673632621598774\n"
     ]
    }
   ],
   "source": [
    "from utils import *\n",
    "import scipy.sparse as sps\n",
    "\n",
    "# 定义稀疏矩阵的维度\n",
    "rows = 5\n",
    "cols = 5\n",
    "density = 0.1  # 非零元素的密度\n",
    "\n",
    "# 生成稀疏矩阵\n",
    "sparse_matrix = sps.rand(rows, cols, density=density, format='csr')  # 使用 CSR 格式\n",
    "\n",
    "# 打印稀疏矩阵\n",
    "print(sparse_matrix)"
   ]
  },
  {
   "cell_type": "code",
   "execution_count": 33,
   "metadata": {},
   "outputs": [
    {
     "name": "stdout",
     "output_type": "stream",
     "text": [
      "tensor([[[ 1.5412,  0.2360],\n",
      "         [-0.2304, -0.4119],\n",
      "         [-0.8034, -2.0590],\n",
      "         [ 0.6286, -0.2682]],\n",
      "\n",
      "        [[-0.0031, -0.6970],\n",
      "         [ 0.6435, -0.0482],\n",
      "         [-1.5100,  0.2715],\n",
      "         [ 0.2424,  0.8881]]])\n",
      "tensor([[[ 1.5412,  0.2360],\n",
      "         [-0.2304, -0.4119],\n",
      "         [-0.8034, -2.0590],\n",
      "         [ 0.0000,  0.0000],\n",
      "         [ 0.6286, -0.2682]],\n",
      "\n",
      "        [[-0.0031, -0.6970],\n",
      "         [ 0.6435, -0.0482],\n",
      "         [-1.5100,  0.2715],\n",
      "         [ 0.0000,  0.0000],\n",
      "         [ 0.2424,  0.8881]]])\n"
     ]
    }
   ],
   "source": [
    "bf = torch.randn((2, 4, 2))\n",
    "print(bf)\n",
    "added_feat_zero_row = torch.zeros((2, 1, 2))\n",
    "\n",
    "x = torch.cat((bf[:, :-1, :], added_feat_zero_row, bf[:, -1:, :]), dim=1)\n",
    "print(x)"
   ]
  },
  {
   "cell_type": "code",
   "execution_count": 55,
   "metadata": {},
   "outputs": [
    {
     "name": "stdout",
     "output_type": "stream",
     "text": [
      "tensor([[-0.4130, -0.2592],\n",
      "        [ 0.8878, -0.6031]])\n",
      "tensor([[ 1.8484, -0.7599,  1.4779, -0.3576],\n",
      "        [-0.7599,  1.8589, -1.9591,  0.4323],\n",
      "        [ 1.4779, -1.9591,  2.3628, -0.5353],\n",
      "        [-0.3576,  0.4323, -0.5353,  0.1218]])\n"
     ]
    }
   ],
   "source": [
    "x = torch.randn((4, 1, 2)).squeeze(1)\n",
    "y = torch.randn((4, 1, 2)).squeeze(1)\n",
    "\n",
    "print(x.T @ y)\n",
    "print(x @ x.T)"
   ]
  },
  {
   "cell_type": "code",
   "execution_count": 43,
   "metadata": {},
   "outputs": [],
   "source": [
    "import torch.nn as nn\n",
    "tmp = []\n",
    "b = nn.Bilinear(2, 2, 1)\n",
    "\n",
    "for _ in range(5):\n",
    "    tmp.append(b(x, y))"
   ]
  },
  {
   "cell_type": "code",
   "execution_count": 49,
   "metadata": {},
   "outputs": [],
   "source": [
    "tmp = torch.cat(tuple(tmp))"
   ]
  },
  {
   "cell_type": "code",
   "execution_count": 50,
   "metadata": {},
   "outputs": [
    {
     "data": {
      "text/plain": [
       "tensor([[-0.0415],\n",
       "        [ 1.2506],\n",
       "        [ 0.2615],\n",
       "        [ 1.0512],\n",
       "        [-0.0415],\n",
       "        [ 1.2506],\n",
       "        [ 0.2615],\n",
       "        [ 1.0512],\n",
       "        [-0.0415],\n",
       "        [ 1.2506],\n",
       "        [ 0.2615],\n",
       "        [ 1.0512],\n",
       "        [-0.0415],\n",
       "        [ 1.2506],\n",
       "        [ 0.2615],\n",
       "        [ 1.0512],\n",
       "        [-0.0415],\n",
       "        [ 1.2506],\n",
       "        [ 0.2615],\n",
       "        [ 1.0512]], grad_fn=<CatBackward0>)"
      ]
     },
     "execution_count": 50,
     "metadata": {},
     "output_type": "execute_result"
    }
   ],
   "source": [
    "tmp"
   ]
  },
  {
   "cell_type": "code",
   "execution_count": 52,
   "metadata": {},
   "outputs": [
    {
     "data": {
      "text/plain": [
       "torch.Size([20, 1])"
      ]
     },
     "execution_count": 52,
     "metadata": {},
     "output_type": "execute_result"
    }
   ],
   "source": [
    "cur_batch_size = 4\n",
    "n = torch.unsqueeze(torch.cat(\n",
    "                    (torch.ones(cur_batch_size), torch.zeros(cur_batch_size * 4))), 1)\n",
    "n.shape"
   ]
  },
  {
   "cell_type": "code",
   "execution_count": 80,
   "metadata": {},
   "outputs": [
    {
     "data": {
      "image/png": "[encoded data removed]",
      "text/plain": [
       "<Figure size 576x576 with 1 Axes>"
      ]
     },
     "metadata": {
      "needs_background": "light"
     },
     "output_type": "display_data"
    }
   ],
   "source": [
    "import numpy as np\n",
    "import matplotlib.pyplot as plt\n",
    "from sklearn.metrics import roc_curve, auc\n",
    "\n",
    "labels = np.array([0, 0, 1, 1])\n",
    "score = np.array([0.1, 0.4, 0.35, 0.8])\n",
    "\n",
    "fpr, tpr, _ = roc_curve(score, labels)\n",
    "\n",
    "# 计算AUC\n",
    "roc_auc = auc(fpr, tpr)\n",
    "\n",
    "# 绘制ROC曲线\n",
    "plt.figure(figsize=(8, 8))\n",
    "# 或者全局设置字体为Arial\n",
    "plt.rcParams['font.family'] = 'Helvetica'\n",
    "plt.rcParams['font.size'] = 12\n",
    "\n",
    "plt.plot(fpr, tpr, color='darkorange', lw=1, label='ROC curve (area = %0.2f)' % roc_auc)\n",
    "plt.plot([0, 1], [0, 1], color='black', lw=1, linestyle='--')\n",
    "plt.grid(True, linestyle='--', alpha=0.5)  # 网格线风格为虚线，透明度为0.5\n",
    "plt.xlim([0.0, 1.0])\n",
    "plt.ylim([0.0, 1.05])\n",
    "plt.xlabel('False Positive Rate', fontsize=14)\n",
    "plt.ylabel('True Positive Rate', fontsize=14)\n",
    "# plt.title('Receiver Operating Characteristic')\n",
    "plt.legend(loc=\"lower right\")\n",
    "plt.savefig('./fig/test.png', dpi=600, bbox_inches='tight')\n",
    "plt.show()\n"
   ]
  },
  {
   "cell_type": "code",
   "execution_count": 62,
   "metadata": {},
   "outputs": [
    {
     "data": {
      "image/png": "[encoded data removed]",
      "text/plain": [
       "<Figure size 432x288 with 1 Axes>"
      ]
     },
     "metadata": {
      "needs_background": "light"
     },
     "output_type": "display_data"
    }
   ],
   "source": [
    "import numpy as np\n",
    "import matplotlib.pyplot as plt\n",
    "\n",
    "# 假设我们有如下数据：\n",
    "true_positive_rate = [0.8, 0.75, 0.6, 0.45, 0.3, 0.2, 0.1]\n",
    "false_positive_rate = [0.2, 0.3, 0.4, 0.5, 0.6, 0.7, 0.8]\n",
    "\n",
    "# 创建一个figure和一个子图\n",
    "fig, ax = plt.subplots()\n",
    "\n",
    "# 绘制ROC曲线\n",
    "ax.plot(false_positive_rate, true_positive_rate)\n",
    "\n",
    "# 设置x轴和y轴的范围\n",
    "ax.set_xlim([0, 1])\n",
    "ax.set_ylim([0, 1])\n",
    "\n",
    "# 添加标题和标签\n",
    "ax.set_title('Receiver Operating Characteristic')\n",
    "ax.set_xlabel('False Positive Rate')\n",
    "ax.set_ylabel('True Positive Rate')\n",
    "\n",
    "plt.show()"
   ]
  },
  {
   "cell_type": "code",
   "execution_count": null,
   "metadata": {},
   "outputs": [],
   "source": [
    "import seaborn as sns\n",
    "from sklearn.manifold import TSNE\n",
    "\n",
    "def visualize(X, labels, savepath=None):\n",
    "\t\"\"\"\n",
    "\t绘制t-SNE降维可视化图\n",
    "\t\"\"\"\n",
    "\ttsne = TSNE(n_components=2, perplexity=30, learning_rate=200, random_state=42)\n",
    "\tout = tsne.fit_transform(X)\n",
    "\n",
    "\tplt.figure(figsize=(10, 8))\n",
    "\tsns.set_theme(style=\"darkgrid\", rc={\"axes.linewidth\": 1, \"axes.edgecolor\": \"black\"})\n",
    "\n",
    "\tfor label in np.unique(labels):\n",
    "\t\tplt.scatter(out[labels == label, 0], out[labels == label, 1], label=f'Cluster {label}', cmap='viridis')\n",
    "\n",
    "\tplt.legend(loc='upper right')\n",
    "\t# plt.title(\"Test Visualization\")\n",
    "\t# 隐藏坐标轴\n",
    "\tplt.xticks([])\n",
    "\tplt.yticks([])\n",
    "\t# plt.axis('off')\n",
    "\t\n",
    "\tif savepath:\n",
    "\t\tplt.savefig(savepath, dpi=600, bbox_inches='tight')\n",
    "\t# 显示图\n",
    "\tplt.show()"
   ]
  },
  {
   "cell_type": "code",
   "execution_count": null,
   "metadata": {},
   "outputs": [],
   "source": [
    "# from sklearn.metrics import roc_curve, auc\n",
    "\n",
    "# def plot_multiple_roc_curves(true_labels, scores_list, model_names, save_path=None):\n",
    "#     plt.figure(figsize=(8, 8))\n",
    "#     sns.set(style=\"whitegrid\")\n",
    "\n",
    "#     for i in range(len(scores_list)):\n",
    "#         fpr, tpr, _ = roc_curve(true_labels, scores_list[i])\n",
    "#         roc_auc = auc(fpr, tpr)\n",
    "        \n",
    "#         sns.lineplot(x=fpr, y=tpr, label=f'{labels[i]} (AUC = {roc_auc:.2f})')\n",
    "\n",
    "#     plt.plot([0, 1], [0, 1], color='gray', linestyle='--')\n",
    "#     plt.title('Comparison with baselines', style='italic')\n",
    "#     plt.xlabel('False Positive Rate (FPR)')\n",
    "#     plt.ylabel('True Positive Rate (TPR)')\n",
    "#     plt.legend()\n",
    "#     if save_path:\n",
    "#         plt.savefig(save_path, dpi=600)\n",
    "#     plt.show()"
   ]
  },
  {
   "cell_type": "code",
   "execution_count": 64,
   "metadata": {},
   "outputs": [
    {
     "data": {
      "image/png": "[encoded data removed]",
      "text/plain": [
       "<Figure size 432x288 with 2 Axes>"
      ]
     },
     "metadata": {
      "needs_background": "light"
     },
     "output_type": "display_data"
    }
   ],
   "source": [
    "import numpy as np\n",
    "import faiss\n",
    "import matplotlib.pyplot as plt\n",
    "\n",
    "# 示例数据，假设clustered_data是Faiss聚类后的结果\n",
    "clustered_data = np.random.rand(100, 2)\n",
    "labels = np.zeros(100)\n",
    "\n",
    "# 绘制聚类结果\n",
    "plt.scatter(clustered_data[:, 0], clustered_data[:, 1], c=labels, cmap='viridis', alpha=0.5)\n",
    "plt.xlabel('Feature 1')\n",
    "plt.ylabel('Feature 2')\n",
    "plt.title('Faiss Clustering Results')\n",
    "plt.colorbar(label='Cluster ID')\n",
    "plt.show()\n"
   ]
  },
  {
   "cell_type": "code",
   "execution_count": 1,
   "metadata": {},
   "outputs": [
    {
     "ename": "IndexError",
     "evalue": "boolean index did not match indexed array along dimension 1; dimension is 2 but corresponding boolean dimension is 1",
     "output_type": "error",
     "traceback": [
      "\u001b[0;31m---------------------------------------------------------------------------\u001b[0m",
      "\u001b[0;31mIndexError\u001b[0m                                Traceback (most recent call last)",
      "Cell \u001b[0;32mIn[1], line 31\u001b[0m\n\u001b[1;32m     29\u001b[0m plt\u001b[38;5;241m.\u001b[39mfigure(figsize\u001b[38;5;241m=\u001b[39m(\u001b[38;5;241m8\u001b[39m, \u001b[38;5;241m6\u001b[39m))\n\u001b[1;32m     30\u001b[0m \u001b[38;5;28;01mfor\u001b[39;00m i \u001b[38;5;129;01min\u001b[39;00m \u001b[38;5;28mrange\u001b[39m(k):\n\u001b[0;32m---> 31\u001b[0m     cluster_points \u001b[38;5;241m=\u001b[39m \u001b[43mX\u001b[49m\u001b[43m[\u001b[49m\u001b[43mlabels\u001b[49m\u001b[43m \u001b[49m\u001b[38;5;241;43m==\u001b[39;49m\u001b[43m \u001b[49m\u001b[43mi\u001b[49m\u001b[43m]\u001b[49m\n\u001b[1;32m     32\u001b[0m     plt\u001b[38;5;241m.\u001b[39mscatter(cluster_points[:, \u001b[38;5;241m0\u001b[39m], cluster_points[:, \u001b[38;5;241m1\u001b[39m], label\u001b[38;5;241m=\u001b[39m\u001b[38;5;124mf\u001b[39m\u001b[38;5;124m'\u001b[39m\u001b[38;5;124mCluster \u001b[39m\u001b[38;5;132;01m{\u001b[39;00mi\u001b[38;5;241m+\u001b[39m\u001b[38;5;241m1\u001b[39m\u001b[38;5;132;01m}\u001b[39;00m\u001b[38;5;124m'\u001b[39m)\n\u001b[1;32m     33\u001b[0m plt\u001b[38;5;241m.\u001b[39mscatter(centroids[:, \u001b[38;5;241m0\u001b[39m], centroids[:, \u001b[38;5;241m1\u001b[39m], marker\u001b[38;5;241m=\u001b[39m\u001b[38;5;124m'\u001b[39m\u001b[38;5;124mx\u001b[39m\u001b[38;5;124m'\u001b[39m, color\u001b[38;5;241m=\u001b[39m\u001b[38;5;124m'\u001b[39m\u001b[38;5;124mk\u001b[39m\u001b[38;5;124m'\u001b[39m, s\u001b[38;5;241m=\u001b[39m\u001b[38;5;241m100\u001b[39m, label\u001b[38;5;241m=\u001b[39m\u001b[38;5;124m'\u001b[39m\u001b[38;5;124mCentroids\u001b[39m\u001b[38;5;124m'\u001b[39m)\n",
      "\u001b[0;31mIndexError\u001b[0m: boolean index did not match indexed array along dimension 1; dimension is 2 but corresponding boolean dimension is 1"
     ]
    },
    {
     "data": {
      "text/plain": [
       "<Figure size 576x432 with 0 Axes>"
      ]
     },
     "metadata": {},
     "output_type": "display_data"
    }
   ],
   "source": [
    "import numpy as np\n",
    "import matplotlib.pyplot as plt\n",
    "from sklearn.datasets import make_blobs\n",
    "import faiss\n",
    "\n",
    "# 生成示例数据\n",
    "X, _ = make_blobs(n_samples=1000, centers=5, random_state=42)\n",
    "\n",
    "# 转换数据类型为32位浮点数\n",
    "X = X.astype('float32')\n",
    "\n",
    "# 设置K均值聚类参数\n",
    "k = 5\n",
    "d = X.shape[1]\n",
    "\n",
    "# 初始化K均值聚类器\n",
    "kmeans = faiss.Kmeans(d, k)\n",
    "\n",
    "# 训练K均值聚类器\n",
    "kmeans.train(X)\n",
    "\n",
    "# 获取聚类中心\n",
    "centroids = kmeans.centroids\n",
    "\n",
    "# 获取每个数据点的聚类分配\n",
    "_, labels = kmeans.index.search(X, 1)\n",
    "\n",
    "# 绘制聚类结果\n",
    "plt.figure(figsize=(8, 6))\n",
    "for i in range(k):\n",
    "    cluster_points = X[labels == i]\n",
    "    plt.scatter(cluster_points[:, 0], cluster_points[:, 1], label=f'Cluster {i+1}')\n",
    "plt.scatter(centroids[:, 0], centroids[:, 1], marker='x', color='k', s=100, label='Centroids')\n",
    "plt.title('K-Means Clustering with Faiss')\n",
    "plt.xlabel('Feature 1')\n",
    "plt.ylabel('Feature 2')\n",
    "plt.legend()\n",
    "plt.grid(True)\n",
    "plt.show()\n"
   ]
  },
  {
   "cell_type": "code",
   "execution_count": 4,
   "metadata": {},
   "outputs": [
    {
     "name": "stdout",
     "output_type": "stream",
     "text": [
      "./fig/cluster_1.png\n",
      "./fig/cluster_2.png\n",
      "./fig/cluster_3.png\n",
      "./fig/cluster_4.png\n",
      "./fig/cluster_5.png\n",
      "./fig/cluster_6.png\n",
      "./fig/cluster_7.png\n",
      "./fig/cluster_8.png\n",
      "./fig/cluster_9.png\n",
      "./fig/cluster_10.png\n"
     ]
    }
   ],
   "source": [
    "for epoch in range(10):\n",
    "    print('./fig/' + f'cluster_{epoch+1}.png')"
   ]
  },
  {
   "cell_type": "code",
   "execution_count": 6,
   "metadata": {},
   "outputs": [
    {
     "name": "stderr",
     "output_type": "stream",
     "text": [
      "/var/folders/tn/q17y3xp92zbch3qdjgx30jch0000gn/T/ipykernel_86996/1300981928.py:2: UserWarning: torch.range is deprecated and will be removed in a future release because its behavior is inconsistent with Python's range builtin. Instead, use torch.arange, which produces values in [start, end).\n",
      "  x = torch.range(0, 10)\n"
     ]
    },
    {
     "data": {
      "text/plain": [
       "tensor([ 0.,  1.,  2.,  3.,  4.,  5.,  6.,  7.,  8.,  9., 10.])"
      ]
     },
     "execution_count": 6,
     "metadata": {},
     "output_type": "execute_result"
    }
   ],
   "source": [
    "import torch\n",
    "x = torch.range(0, 10)\n",
    "x"
   ]
  },
  {
   "cell_type": "code",
   "execution_count": 19,
   "metadata": {},
   "outputs": [
    {
     "name": "stdout",
     "output_type": "stream",
     "text": [
      "tensor([[5, 2, 6, 9],\n",
      "        [1, 3, 3, 5],\n",
      "        [6, 1, 2, 0],\n",
      "        [2, 2, 2, 5]])\n",
      "tensor([3, 3, 0, 3])\n"
     ]
    }
   ],
   "source": [
    "x = torch.randint(0, 10, (4, 4))\n",
    "print(x)\n",
    "_, idx = x.max(dim=1)\n",
    "print(idx)"
   ]
  },
  {
   "cell_type": "code",
   "execution_count": 26,
   "metadata": {},
   "outputs": [],
   "source": [
    "from scipy.sparse import csr_matrix\n",
    "\n",
    "def get_indices_sparse(data): # (N, 1)\n",
    "    cols = np.arange(data.size) # [0, ..., N-1]\n",
    "    M = csr_matrix((cols, (data.ravel(), cols)), shape=(int(data.max()) + 1, data.size))\n",
    "    return [np.unravel_index(row.data, data.shape) for row in M]\n",
    "\n",
    "y = get_indices_sparse(idx.cpu().numpy())"
   ]
  },
  {
   "cell_type": "code",
   "execution_count": 27,
   "metadata": {},
   "outputs": [
    {
     "data": {
      "text/plain": [
       "[(array([2]),),\n",
       " (array([], dtype=int64),),\n",
       " (array([], dtype=int64),),\n",
       " (array([0, 1, 3]),)]"
      ]
     },
     "execution_count": 27,
     "metadata": {},
     "output_type": "execute_result"
    }
   ],
   "source": [
    "y"
   ]
  },
  {
   "cell_type": "code",
   "execution_count": 36,
   "metadata": {},
   "outputs": [
    {
     "name": "stdout",
     "output_type": "stream",
     "text": [
      "tensor([[[ 0.2374, -2.5983],\n",
      "         [-1.0370,  1.8456],\n",
      "         [ 1.1793,  0.4410],\n",
      "         [-1.0247, -0.8109]]])\n"
     ]
    },
    {
     "data": {
      "text/plain": [
       "tensor([[[ 0.2478, -2.6830],\n",
       "         [-1.0843,  1.5637],\n",
       "         [ 1.2341,  0.4952],\n",
       "         [-1.0640, -0.9281]]])"
      ]
     },
     "execution_count": 36,
     "metadata": {},
     "output_type": "execute_result"
    }
   ],
   "source": [
    "def gaussian_noised_feature(X):\n",
    "    \"\"\"\n",
    "    add gaussian noise to the attribute matrix X\n",
    "    Args:\n",
    "        X: the attribute matrix\n",
    "    Returns: the noised attribute matrix X_tilde\n",
    "    \"\"\"\n",
    "    N = torch.Tensor(np.random.normal(1, 0.1, X.shape))\n",
    "    X_tilde = X * N\n",
    "    return X_tilde\n",
    "\n",
    "x = torch.randn((1, 4, 2))\n",
    "print(x)\n",
    "gaussian_noised_feature(x)"
   ]
  },
  {
   "cell_type": "code",
   "execution_count": 38,
   "metadata": {},
   "outputs": [
    {
     "data": {
      "text/plain": [
       "tensor([False,  True, False, False])"
      ]
     },
     "execution_count": 38,
     "metadata": {},
     "output_type": "execute_result"
    }
   ],
   "source": [
    "x = torch.randint(0, 10, (4, ))\n",
    "x == 1"
   ]
  },
  {
   "cell_type": "code",
   "execution_count": 2,
   "metadata": {},
   "outputs": [
    {
     "name": "stdout",
     "output_type": "stream",
     "text": [
      "Normalized Mutual Information (NMI):  0.7248303282742284\n"
     ]
    }
   ],
   "source": [
    "from sklearn.metrics.cluster import normalized_mutual_info_score\n",
    "\n",
    "# 假设你有两个聚类结果，A和B，它们都是样本索引组成的列表\n",
    "A = [0, 0, 1, 1, 2, 2, 2]\n",
    "B = [0, 0, 1, 2, 2, 3, 3]\n",
    "\n",
    "# 计算NMI\n",
    "nmi = normalized_mutual_info_score(labels_true=A, labels_pred=B)\n",
    "\n",
    "print(\"Normalized Mutual Information (NMI): \", nmi)"
   ]
  },
  {
   "cell_type": "code",
   "execution_count": 19,
   "metadata": {},
   "outputs": [
    {
     "name": "stdout",
     "output_type": "stream",
     "text": [
      "(16484, 7)\n"
     ]
    }
   ],
   "source": [
    "from utils import load_mat\n",
    "\n",
    "adj, feat, labels, ano_labels, str_ano_labels, attr_ano_labels = load_mat('acm')\n",
    "print(labels.shape)"
   ]
  },
  {
   "cell_type": "code",
   "execution_count": 27,
   "metadata": {},
   "outputs": [
    {
     "name": "stdout",
     "output_type": "stream",
     "text": [
      "torch.Size([4]) tensor([3., 2., 8., 3.])\n"
     ]
    },
    {
     "data": {
      "text/plain": [
       "tensor([0.8374])"
      ]
     },
     "execution_count": 27,
     "metadata": {},
     "output_type": "execute_result"
    }
   ],
   "source": [
    "import torch\n",
    "\n",
    "a = torch.randint(0, 10, (4, ), dtype=torch.float32)\n",
    "b = torch.randint(0, 10, (4, ), dtype=torch.float32)\n",
    "print(a.shape, b)\n",
    "\n",
    "torch.cosine_similarity(a.unsqueeze(0), b.unsqueeze(0))"
   ]
  },
  {
   "cell_type": "code",
   "execution_count": 28,
   "metadata": {},
   "outputs": [
    {
     "data": {
      "text/plain": [
       "tensor(84.)"
      ]
     },
     "execution_count": 28,
     "metadata": {},
     "output_type": "execute_result"
    }
   ],
   "source": [
    "def plot_loss_acc_recall(loss_history, val_acc_history, val_recall_history, save_path=None):\n",
    "    # 创建一个 DataFrame\n",
    "    epochs = np.arange(1, len(loss_history)+1)\n",
    "    df_temp = pd.DataFrame({'Epochs': epochs, 'Loss': loss_history, 'Accuracy': val_acc_history, 'Recall': val_recall_history})\n",
    "\n",
    "    plt.figure(figsize=(10, 6))\n",
    "    # sns.set(style=\"darkgrid\", rc={\"axes.linewidth\": 1, \"axes.edgecolor\": \"black\"})\n",
    "    sns.set_theme(style=\"whitegrid\", rc={\"axes.linewidth\": 1, \"axes.edgecolor\": \"black\"})\n",
    "    ax1 = sns.lineplot(data=df_temp, x='Epochs', y='Loss', label='Loss')\n",
    "    ax2 = ax1.twinx()  # 创建右边的 Y 轴\n",
    "    ax2.set_ylim([0, 1.0])\n",
    "\n",
    "    # 绘制 accuracy 和 recall 的折线\n",
    "    sns.lineplot(data=df_temp, x='Epochs', y='Accuracy', ax=ax2, color='orange', label='Accuracy')\n",
    "    sns.lineplot(data=df_temp, x='Epochs', y='Recall', ax=ax2, color='green', label='Recall')\n",
    "\n",
    "    # 设置左边 Y 轴标签\n",
    "    ax1.set_ylabel('Loss')\n",
    "\n",
    "    # 设置右边 Y 轴标签\n",
    "    ax2.set_ylabel('Accuracy / Recall')\n",
    "\n",
    "    # 添加标题和标签\n",
    "    # plt.title('Training Loss, Validation Accuracy and Validation Recall', style = 'italic')\n",
    "    plt.xlabel('Epochs')\n",
    "\n",
    "    # 合并图例\n",
    "    lines, labels = ax1.get_legend_handles_labels()\n",
    "    lines2, labels2 = ax2.get_legend_handles_labels()\n",
    "    ax2.legend(lines + lines2, labels + labels2, loc='best')\n",
    "\n",
    "    # 移除左边 Y 轴的图例\n",
    "    ax1.legend().set_visible(False)\n",
    "    \n",
    "    if save_path:\n",
    "        plt.savefig(save_path, dpi=600)"
   ]
  },
  {
   "cell_type": "code",
   "execution_count": null,
   "metadata": {},
   "outputs": [],
   "source": []
  }
 ],
 "metadata": {
  "kernelspec": {
   "display_name": "Pytorch",
   "language": "python",
   "name": "python3"
  },
  "language_info": {
   "codemirror_mode": {
    "name": "ipython",
    "version": 3
   },
   "file_extension": ".py",
   "mimetype": "text/x-python",
   "name": "python",
   "nbconvert_exporter": "python",
   "pygments_lexer": "ipython3",
   "version": "3.8.13"
  }
 },
 "nbformat": 4,
 "nbformat_minor": 2
}
